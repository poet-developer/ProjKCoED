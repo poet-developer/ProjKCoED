{
 "cells": [
  {
   "cell_type": "markdown",
   "metadata": {},
   "source": [
    "## 1. color mapping\n",
    "#### context engineering 전, dummy를 가지고 색 선정 함수를 정의하고자함."
   ]
  },
  {
   "cell_type": "code",
   "execution_count": 2392,
   "metadata": {},
   "outputs": [],
   "source": [
    "import pandas as pd"
   ]
  },
  {
   "cell_type": "markdown",
   "metadata": {},
   "source": [
    "- KOTE 44가지 감정의 긍/부정/중립 기준 적용"
   ]
  },
  {
   "cell_type": "code",
   "execution_count": 2393,
   "metadata": {},
   "outputs": [],
   "source": [
    "positive_emotions = ['감동/감탄', '고마움', '기대감', '기쁨', '뿌듯함',\n",
    "'신기함/관심', '아껴주는', '안심/신뢰', '존경', '즐거움/신남', '편안/쾌적', '행복', '환영/호의',\n",
    "'흐뭇함(귀여움/예쁨)',\n",
    "]\n",
    "negative_emotions = ['경악', '공포/무서움', '귀찮음', '당황/난처', '부끄러움', '부담/안_내킴', '불쌍함/연민', '불안/걱정', \n",
    "                     '불평/불만', '슬픔', '서러움', '안타까움/실망', '어이없음', '역겨움/징그러움', '의심/불신', '짜증', \n",
    "                     '재미없음', '절망', '죄책감', '증오/혐오', '지긋지긋', '패배/자기혐오', '한심함', '화남/분노', '힘듦/지침', '분노']\n",
    "neutral_emotions = ['깨달음', '놀람', '비장함', '우쭐댐/무시함']\n",
    "\n",
    "no_emotion = ['없음']\n"
   ]
  },
  {
   "cell_type": "code",
   "execution_count": 2394,
   "metadata": {},
   "outputs": [],
   "source": [
    "result_emotions_contrast = {'불쌍함/연민': 0.44,\n",
    "'불안/걱정': 0.56,\n",
    "'서러움': 0.51,\n",
    "'슬픔': 0.7,\n",
    "'아껴주는' : 0.47,\n",
    "'안타까움/실망': 0.31,\n",
    "'없음': 0.8,\n",
    "'기쁨':0.6\n",
    "}\n",
    "\n",
    "result_emotions_similar = {'불쌍함/연민': 0.44,\n",
    "'불안/걱정': 0.56,\n",
    "'서러움': 0.51,\n",
    "'슬픔': 0.7,\n",
    "'아껴주는' : 0.47,\n",
    "'안타까움/실망': 0.31,\n",
    "'없음': 0.8,\n",
    "'죄책감':0.6\n",
    "}\n",
    "\n",
    "result_emotions_similaremotion_contrastcolor = {'불쌍함/연민': 0.44,\n",
    "'불안/걱정': 0.56,\n",
    "'서러움': 0.51,\n",
    "'슬픔': 0.7,\n",
    "'아껴주는' : 0.47,\n",
    "'안타까움/실망': 0.31,\n",
    "'없음': 0.8,\n",
    "'분노':0.6\n",
    "}\n",
    "\n",
    "result_IRI = '멋진'"
   ]
  },
  {
   "cell_type": "markdown",
   "metadata": {},
   "source": [
    "### 주감정/보조감정에 대해 KCoED데이터셋에서 주색, 보조색을 선정"
   ]
  },
  {
   "cell_type": "code",
   "execution_count": 2395,
   "metadata": {},
   "outputs": [],
   "source": [
    "# 감정 출력 값 전처리 : 없음을 제거, 감정 범주화에 해당하지 않는 감정 제거 ex) 한심함\n",
    "def filter_emotions(result_emotions, result_IRI):\n",
    "    # Filter out the '없음' key\n",
    "    filtered_emotions = {key: value for key, value in result_emotions.items() if key != '없음'}\n",
    "    \n",
    "    # Sort emotions by their values in descending order\n",
    "    sorted_emotions = sorted(filtered_emotions.items(), key=lambda item: item[1], reverse=True)\n",
    "    \n",
    "    # Extract the keys of the top two emotions\n",
    "    top_two_emotions = [sorted_emotions[0][0], sorted_emotions[1][0], result_IRI] if len(sorted_emotions) >= 2 else []\n",
    "    \n",
    "    return top_two_emotions"
   ]
  },
  {
   "cell_type": "code",
   "execution_count": 2396,
   "metadata": {},
   "outputs": [
    {
     "name": "stdout",
     "output_type": "stream",
     "text": [
      "['슬픔', '기쁨', '멋진'] ['슬픔', '죄책감', '멋진'] ['슬픔', '분노', '멋진']\n"
     ]
    }
   ],
   "source": [
    "# Example usage\n",
    "## 주-보조 감정은 감정 분류 모델(KPoEM)에서, 형용사는 LLM모델이 반환.\n",
    "top_emotions_contrast = filter_emotions(result_emotions_contrast, result_IRI)\n",
    "top_emotions_similar = filter_emotions(result_emotions_similar, result_IRI)\n",
    "top_emotions_similaremotion_contrastcolor = filter_emotions(result_emotions_similaremotion_contrastcolor, result_IRI)\n",
    "print(top_emotions_contrast, top_emotions_similar, top_emotions_similaremotion_contrastcolor)  # Output: ['슬픔', '기쁨']"
   ]
  },
  {
   "cell_type": "code",
   "execution_count": 2397,
   "metadata": {},
   "outputs": [],
   "source": [
    "# CSV 파일 경로\n",
    "file_path = \"korean emtion-color dataset 2.0 - SUM.csv\"\n",
    "# 파일 읽기 (처음엔 컬럼명을 무시하고 불러오기)\n",
    "df_raw = pd.read_csv(file_path, header=None)\n",
    "\n",
    "# 첫 번째 행을 컬럼명으로 지정\n",
    "df_raw.columns = df_raw.iloc[1]\n",
    "df = df_raw[2:]  # 첫 행은 이제 컬럼으로 사용했으니 제외"
   ]
  },
  {
   "cell_type": "code",
   "execution_count": 2398,
   "metadata": {},
   "outputs": [],
   "source": [
    "# Function to categorize the emotion\n",
    "def categorize_emotion(primary_emotion, secondary_emotion):\n",
    "    # 감정 사전 정의 (예시, 필요에 따라 확장 가능)\n",
    "\n",
    "    # 내부 분류 함수\n",
    "    def classify(emotion):\n",
    "        if emotion in positive_emotions:\n",
    "            return \"positive\"\n",
    "        elif emotion in negative_emotions:\n",
    "            return \"negative\"\n",
    "        elif emotion in neutral_emotions:\n",
    "            return \"neutral\" # 아직 처리 안함.\n",
    "        else:\n",
    "            return \"no_emotion\" #아직 처리 안함.\n",
    "    \n",
    "    def handle_neutral_case(primary_emotion, secondary_emotion):\n",
    "        # 감정이 'neutral'인 경우는 별도의 로직으로 처리\n",
    "        if primary_emotion == \"neutral\" or secondary_emotion == \"neutral\":\n",
    "            return \"배색3\"\n",
    "\n",
    "    # 각각 분류\n",
    "    primary_category = classify(primary_emotion)\n",
    "    secondary_category = classify(secondary_emotion)\n",
    "    \n",
    "    # 'neutral'이 포함된 경우는 별도 함수로 처리\n",
    "    if \"neutral\" in [primary_category, secondary_category] :\n",
    "        print(f\"Primary: {primary_category}, Secondary: {secondary_category}\")\n",
    "        return handle_neutral_case(primary_category, secondary_category)\n",
    "    print(f\"Primary: {primary_category}, Secondary: {secondary_category}\")\n",
    "\n",
    "    # 조건 비교 후 mode 반환\n",
    "    if primary_category == secondary_category in [\"positive\", \"negative\"]:\n",
    "        return \"유사색상\"\n",
    "    else:\n",
    "        return \"대비색상\"\n",
    "\n"
   ]
  },
  {
   "cell_type": "code",
   "execution_count": 2399,
   "metadata": {},
   "outputs": [
    {
     "name": "stdout",
     "output_type": "stream",
     "text": [
      "Primary: negative, Secondary: positive\n",
      "대비색상\n",
      "Primary: negative, Secondary: negative\n",
      "유사색상\n",
      "Primary: negative, Secondary: negative\n",
      "유사색상\n"
     ]
    }
   ],
   "source": [
    "# Example usage\n",
    "print(categorize_emotion(top_emotions_contrast[0],top_emotions_contrast[1]))\n",
    "print(categorize_emotion(top_emotions_similar[0],top_emotions_similar[1]))\n",
    "print(categorize_emotion(top_emotions_similaremotion_contrastcolor[0],top_emotions_similaremotion_contrastcolor[1]))\n"
   ]
  },
  {
   "cell_type": "code",
   "execution_count": 2400,
   "metadata": {},
   "outputs": [],
   "source": [
    "import random\n",
    "\n",
    "def random_color(emotion, df):\n",
    "    filtered = df[(df['감정 어휘'] == emotion) & (df['평가 순위'] == '1')]\n",
    "    filtered_df_array = filtered.to_dict(orient='records')\n",
    "\n",
    "    # (예외처리) 무작위로 하나 선택\n",
    "    if filtered_df_array:\n",
    "        return random.choice(filtered_df_array)\n",
    "    else:\n",
    "        return None"
   ]
  },
  {
   "cell_type": "code",
   "execution_count": 2401,
   "metadata": {},
   "outputs": [],
   "source": [
    "def get_primary_color(top_ranked_value):\n",
    "    munsell_colors = ['R', 'YR', 'Y', 'GY', 'G', 'BG', 'B', 'PB', 'P', 'RP']\n",
    "    total = len(munsell_colors)\n",
    "\n",
    "    if top_ranked_value['색상약호'] not in munsell_colors:\n",
    "        return \"unknown_color\"\n",
    "    # 색상약호의 인덱스 찾기\n",
    "    idx = munsell_colors.index(top_ranked_value['색상약호'])\n",
    "\n",
    "    # 유사색상군\n",
    "    similar_1_idx = [(idx - 1) % total, (idx + 1) % total]\n",
    "    similar_2_idx = [(idx - 2) % total, (idx + 2) % total]\n",
    "\n",
    "    # 대비색상군\n",
    "    contrast_2_idx = [(idx - 3) % total, (idx + 3) % total]\n",
    "    contrast_1_idx = [(idx - 4) % total, (idx + 4) % total]\n",
    "    contrast_idx = [(idx - 5) % total]  # 보색 (정반대 5칸 거리)\n",
    "\n",
    "    # 변환\n",
    "    similar_colors_1 = [munsell_colors[i] for i in similar_1_idx]\n",
    "    similar_colors_2 = [munsell_colors[i] for i in similar_2_idx]\n",
    "    contrast_colors_2 = [munsell_colors[i] for i in contrast_2_idx]\n",
    "    contrast_colors_1 = [munsell_colors[i] for i in contrast_1_idx]\n",
    "    contrast_color = [munsell_colors[i] for i in contrast_idx]\n",
    "\n",
    "    return {\n",
    "        \"center_color\": top_ranked_value,\n",
    "        \"similar_colors_1\": similar_colors_1,\n",
    "        \"similar_colors_2\": similar_colors_2,\n",
    "        \"contrast_colors_1\": contrast_colors_1,\n",
    "        \"contrast_colors_2\": contrast_colors_2,\n",
    "        \"contrast_color\": contrast_color  # 보색\n",
    "    }\n",
    "        "
   ]
  },
  {
   "cell_type": "code",
   "execution_count": 2402,
   "metadata": {},
   "outputs": [],
   "source": [
    "def similar_mapping(primary_color_info, secondary_emotion, df):\n",
    "    # secondary_ranked_value = df[df['감정 어휘'] == secondary_emotion].sort_values(by='평가 순위').iloc[0].to_dict()\n",
    "    secondary_ranked_df = df[df['감정 어휘'] == secondary_emotion]\n",
    "    \n",
    "    similar_matches_1 = []\n",
    "    similar_matches_2 = []\n",
    "    similar_match_exact = []\n",
    "\n",
    "            \n",
    "    # similar_colors_1 체크\n",
    "    for similar_color in primary_color_info['similar_colors_1']:\n",
    "        matched = secondary_ranked_df[secondary_ranked_df['색상약호'] == similar_color]\n",
    "        if not matched.empty:\n",
    "            similar_matches_1.append(matched)\n",
    "\n",
    "    # similar_colors_2 체크\n",
    "    for similar_color in primary_color_info['similar_colors_2']:\n",
    "        matched = secondary_ranked_df[secondary_ranked_df['색상약호'] == similar_color]\n",
    "        if not matched.empty:\n",
    "            similar_matches_2.append(matched)\n",
    "            \n",
    "    # same_color (동일색) 체크\n",
    "    same_color = primary_color_info['center_color']  # 단일 값 리스트 #주색은 미리 딕셔너리로 보관됨. 그대로 가져옴.\n",
    "    matched_exact = secondary_ranked_df[secondary_ranked_df['색상약호'] == same_color]\n",
    "    if not matched_exact.empty:\n",
    "        similar_match_exact.append(matched_exact)\n",
    "    \n",
    "    # 유사색상군1과 유사색상군2 중 하나라도 일치하는 경우.\n",
    "    if similar_matches_1 or similar_matches_2: \n",
    "        if similar_matches_1: # 대비색상군1을 우선 선정.\n",
    "            similar_matches_1_df = pd.concat(similar_matches_1).to_dict(orient='records')\n",
    "            # print(similar_matches_1_df)\n",
    "            return {\"primary_color\" : primary_color_info['center_color'],\n",
    "                    \"secondary_color\" : min(similar_matches_1_df, key=lambda x: x['평가 순위'])}\n",
    "        else: #대비색상군1이 없고, 대비색상군2가 있는 경우\n",
    "            similar_matches_2_df = pd.concat(similar_matches_2).to_dict(orient='records')\n",
    "            # print(similar_matches_2_df)\n",
    "            return {\"primary_color\" : primary_color_info['center_color'],\n",
    "                    \"secondary_color\" :min(similar_matches_2_df, key=lambda x: x['평가 순위'])}\n",
    "            \n",
    "    # 동일색이 있는경우\n",
    "    if similar_match_exact:\n",
    "        similar_dicts = similar_match_exact[0].to_dict(orient='records')\n",
    "        return {\"primary_color\" : primary_color_info['center_color'],\n",
    "                \"secondary_color\" : min(similar_dicts, key=lambda x: x['평가 순위'])} # '평가 순위'가 가장 높은 값 (숫자가 클수록 높은 순위라면 ↓)\n",
    "        \n",
    "    # 유사색상이 없는 경우\n",
    "    pure_secondary_colors = random_color(secondary_emotion, df)\n",
    "    return {\"primary_color\" : primary_color_info['center_color'], \"secondary_color\" :pure_secondary_colors}"
   ]
  },
  {
   "cell_type": "code",
   "execution_count": 2403,
   "metadata": {},
   "outputs": [],
   "source": [
    "def contrast_mapping(primary_color_info, secondary_emotion, df):\n",
    "    secondary_ranked_df = df[df['감정 어휘'] == secondary_emotion]\n",
    "        \n",
    "    contrast_matches_1 = []\n",
    "    contrast_matches_2 = []\n",
    "    contrast_match_exact = []\n",
    "\n",
    "            \n",
    "    # contrast_colors_1 체크\n",
    "    for contrast_color in primary_color_info['contrast_colors_1']:\n",
    "        matched = secondary_ranked_df[secondary_ranked_df['색상약호'] == contrast_color]\n",
    "        if not matched.empty:\n",
    "            contrast_matches_1.append(matched)\n",
    "\n",
    "    # contrast_colors_2 체크\n",
    "    for contrast_color in primary_color_info['contrast_colors_2']:\n",
    "        matched = secondary_ranked_df[secondary_ranked_df['색상약호'] == contrast_color]\n",
    "        if not matched.empty:\n",
    "            contrast_matches_2.append(matched)\n",
    "            \n",
    "    # contrast_color (보색) 체크\n",
    "    contrast_color = primary_color_info['contrast_color'][0]  # 단일 값 리스트\n",
    "    matched_exact = secondary_ranked_df[secondary_ranked_df['색상약호'] == contrast_color]\n",
    "    if not matched_exact.empty:\n",
    "        contrast_match_exact.append(matched_exact)\n",
    "\n",
    "    #출력\n",
    "    # print(\"대비색상군1과 일치하는 색상 ↓\")\n",
    "    # print(pd.concat(contrast_matches_1) if contrast_matches_1 else \"대비색상군1 없음\")\n",
    "\n",
    "    # print(\"\\n대비색상군2와 일치하는 색상 ↓\")\n",
    "    # print(pd.concat(contrast_matches_2) if contrast_matches_2 else \"대비색상군2 없음\")\n",
    "\n",
    "    # print(\"\\n보색과 정확히 일치하는 색상 ↓\")\n",
    "    # print(pd.concat(contrast_match_exact) if contrast_match_exact else \"보색 일치 항목 없음\")\n",
    "    \n",
    "    #보색이 정확히 일치하는 경우\n",
    "    if contrast_match_exact:\n",
    "        contrast_dicts = contrast_match_exact[0].to_dict(orient='records')\n",
    "        return {\"primary_color\" : primary_color_info['center_color'],\n",
    "                \"secondary_color\" : min(contrast_dicts, key=lambda x: x['평가 순위'])} # '평가 순위'가 가장 높은 값 (숫자가 클수록 높은 순위라면 ↓)\n",
    "    \n",
    "    # 대비색상군1과 대비색상군2 중 하나라도 일치하는 경우.\n",
    "    if contrast_matches_1 or contrast_matches_2: \n",
    "        if contrast_matches_1: # 대비색상군1을 우선 선정.\n",
    "            contrast_matches_1_df = pd.concat(contrast_matches_1).to_dict(orient='records')\n",
    "            # print(contrast_matches_1_df)\n",
    "            return {\"primary_color\" : primary_color_info['center_color'],\n",
    "                    \"secondary_color\" : min(contrast_matches_1_df, key=lambda x: x['평가 순위'])}\n",
    "        else: #대비색상군1이 없고, 대비색상군2가 있는 경우\n",
    "            contrast_matches_2_df = pd.concat(contrast_matches_2).to_dict(orient='records')\n",
    "            # print(contrast_matches_2_df)\n",
    "            return {\"primary_color\" : primary_color_info['center_color'],\n",
    "                    \"secondary_color\" :min(contrast_matches_2_df, key=lambda x: x['평가 순위'])}\n",
    "    # 대비색상이 없는 경우\n",
    "    pure_secondary_colors = random_color(secondary_emotion, df)\n",
    "    return {\"primary_color\" : primary_color_info['center_color'], \"secondary_color\" :pure_secondary_colors}  # '평가 순위'가 가장 높은 값 (숫자가 클수록 높은 순위라면 ↓)"
   ]
  },
  {
   "cell_type": "code",
   "execution_count": 2404,
   "metadata": {},
   "outputs": [],
   "source": [
    "def get_sencondary_color(primary_color_info, secondary_emotion, mode_colors, df):\n",
    "    # 유사색상 모드일 때\n",
    "    if mode_colors == \"유사색상\":\n",
    "        return similar_mapping(primary_color_info, secondary_emotion, df)\n",
    "    # 대비색상 모드일 때\n",
    "    elif mode_colors == \"대비색상\": \n",
    "        return contrast_mapping(primary_color_info, secondary_emotion, df)\n",
    "        \n",
    "    # 예외처리 : 대비색상, 대비색상군1, 대비색상군2가 전부 없는 경우"
   ]
  },
  {
   "cell_type": "code",
   "execution_count": 2405,
   "metadata": {},
   "outputs": [],
   "source": [
    "def define_colors(primary_emotion, secondary_emotion, df):\n",
    "    mode_colors = categorize_emotion(primary_emotion, secondary_emotion)\n",
    "    # top_ranked_value = df[df['감정 어휘'] == primary_emotion].sort_values(by='평가 순위').iloc[0].to_dict()\n",
    "    # top_ranked_value = df[df['감정 어휘'] == primary_emotion].sort_values(by='평가 순위')\n",
    "    # filtered = df[(df['감정 어휘'] == primary_emotion) & (df['평가 순위'] == 1)]\n",
    "    \n",
    "    primary_color_data = random_color(primary_emotion, df) # 무작위로 하나 선택\n",
    "    primary_color_info_test= get_primary_color(primary_color_data)\n",
    "    return get_sencondary_color(primary_color_info_test, secondary_emotion, mode_colors, df)\n",
    "    "
   ]
  },
  {
   "cell_type": "code",
   "execution_count": 2406,
   "metadata": {},
   "outputs": [
    {
     "name": "stdout",
     "output_type": "stream",
     "text": [
      "Primary: negative, Secondary: positive\n"
     ]
    },
    {
     "data": {
      "text/plain": [
       "{'primary_color': {'감정id': '24',\n",
       "  '감정 어휘': '슬픔',\n",
       "  '평가 순위': '1',\n",
       "  'R': '76',\n",
       "  'G': '87',\n",
       "  'B': '101',\n",
       "  '샘플': nan,\n",
       "  '출처/참고문헌': '김애경,and 오윤경. \"긍정 및 부정 정서어휘에 대한 색 반응 연구.\" 조형미디어학 19.1 (2016): 59-66.',\n",
       "  '출처/참고문헌2': 'https://gist.github.com/hidex7777/5268753',\n",
       "  '색상': '남색',\n",
       "  '색상약호': 'PB',\n",
       "  '색상 온도': 'Cold',\n",
       "  nan: nan},\n",
       " 'secondary_color': {'감정id': '17',\n",
       "  '감정 어휘': '기쁨',\n",
       "  '평가 순위': '1',\n",
       "  'R': '238',\n",
       "  'G': '201',\n",
       "  'B': '0',\n",
       "  '샘플': nan,\n",
       "  '출처/참고문헌': '김애경,and 오윤경. \"긍정 및 부정 정서어휘에 대한 색 반응 연구.\" 조형미디어학 19.1 (2016): 59-66.',\n",
       "  '출처/참고문헌2': 'https://gist.github.com/hidex7777/5268700',\n",
       "  '색상': '노랑',\n",
       "  '색상약호': 'Y',\n",
       "  '색상 온도': 'Warm',\n",
       "  nan: nan}}"
      ]
     },
     "execution_count": 2406,
     "metadata": {},
     "output_type": "execute_result"
    }
   ],
   "source": [
    "colors_contrast = define_colors(top_emotions_contrast[0],top_emotions_contrast[1], df) # 주감정과 보조감정, KCoED 데이터셋\n",
    "colors_contrast\n"
   ]
  },
  {
   "cell_type": "code",
   "execution_count": 2407,
   "metadata": {},
   "outputs": [
    {
     "name": "stdout",
     "output_type": "stream",
     "text": [
      "Primary: negative, Secondary: negative\n"
     ]
    },
    {
     "data": {
      "text/plain": [
       "{'primary_color': {'감정id': '24',\n",
       "  '감정 어휘': '슬픔',\n",
       "  '평가 순위': '1',\n",
       "  'R': '76',\n",
       "  'G': '87',\n",
       "  'B': '101',\n",
       "  '샘플': nan,\n",
       "  '출처/참고문헌': '김애경,and 오윤경. \"긍정 및 부정 정서어휘에 대한 색 반응 연구.\" 조형미디어학 19.1 (2016): 59-66.',\n",
       "  '출처/참고문헌2': 'https://gist.github.com/hidex7777/5268753',\n",
       "  '색상': '남색',\n",
       "  '색상약호': 'PB',\n",
       "  '색상 온도': 'Cold',\n",
       "  nan: nan},\n",
       " 'secondary_color': {'감정id': '27',\n",
       "  '감정 어휘': '죄책감',\n",
       "  '평가 순위': '1',\n",
       "  'R': '67',\n",
       "  'G': '40',\n",
       "  'B': '72',\n",
       "  '샘플': nan,\n",
       "  '출처/참고문헌': '김애경,and 오윤경. \"긍정 및 부정 정서어휘에 대한 색 반응 연구.\" 조형미디어학 19.1 (2016): 59-66.',\n",
       "  '출처/참고문헌2': 'https://gist.github.com/hidex7777/5268770',\n",
       "  '색상': '보라',\n",
       "  '색상약호': 'P',\n",
       "  '색상 온도': 'Neutral',\n",
       "  nan: nan}}"
      ]
     },
     "execution_count": 2407,
     "metadata": {},
     "output_type": "execute_result"
    }
   ],
   "source": [
    "colors_similar = define_colors(top_emotions_similar[0],top_emotions_similar[1], df) # 주감정과 보조감정, KCoED 데이터셋\n",
    "colors_similar"
   ]
  },
  {
   "cell_type": "code",
   "execution_count": 2408,
   "metadata": {},
   "outputs": [
    {
     "name": "stdout",
     "output_type": "stream",
     "text": [
      "Primary: negative, Secondary: negative\n"
     ]
    },
    {
     "data": {
      "text/plain": [
       "{'primary_color': {'감정id': '24',\n",
       "  '감정 어휘': '슬픔',\n",
       "  '평가 순위': '1',\n",
       "  'R': '76',\n",
       "  'G': '87',\n",
       "  'B': '101',\n",
       "  '샘플': nan,\n",
       "  '출처/참고문헌': '김애경,and 오윤경. \"긍정 및 부정 정서어휘에 대한 색 반응 연구.\" 조형미디어학 19.1 (2016): 59-66.',\n",
       "  '출처/참고문헌2': 'https://gist.github.com/hidex7777/5268753',\n",
       "  '색상': '남색',\n",
       "  '색상약호': 'PB',\n",
       "  '색상 온도': 'Cold',\n",
       "  nan: nan},\n",
       " 'secondary_color': {'감정id': '28',\n",
       "  '감정 어휘': '분노',\n",
       "  '평가 순위': '1',\n",
       "  'R': '208',\n",
       "  'G': '47',\n",
       "  'B': '72',\n",
       "  '샘플': nan,\n",
       "  '출처/참고문헌': '김애경,and 오윤경. \"긍정 및 부정 정서어휘에 대한 색 반응 연구.\" 조형미디어학 19.1 (2016): 59-66.',\n",
       "  '출처/참고문헌2': 'https://gist.github.com/hidex7777/5268773',\n",
       "  '색상': '빨강',\n",
       "  '색상약호': 'R',\n",
       "  '색상 온도': 'Warm',\n",
       "  nan: nan}}"
      ]
     },
     "execution_count": 2408,
     "metadata": {},
     "output_type": "execute_result"
    }
   ],
   "source": [
    "colors_similar_contrast = define_colors(top_emotions_similaremotion_contrastcolor[0],top_emotions_similaremotion_contrastcolor[1], df) # 주감정과 보조감정, KCoED 데이터셋\n",
    "colors_similar_contrast"
   ]
  },
  {
   "cell_type": "markdown",
   "metadata": {},
   "source": [
    "### 주색/보조색을 가지고 컬러 변환"
   ]
  },
  {
   "cell_type": "code",
   "execution_count": 2409,
   "metadata": {},
   "outputs": [],
   "source": [
    "import colorsys"
   ]
  },
  {
   "cell_type": "code",
   "execution_count": 2410,
   "metadata": {},
   "outputs": [],
   "source": [
    "def rgb_to_hsb(rgb_dict):\n",
    "    # 문자열 RGB 값을 정수로 변환\n",
    "    r = int(rgb_dict['R']) / 255.0\n",
    "    g = int(rgb_dict['G']) / 255.0\n",
    "    b = int(rgb_dict['B']) / 255.0\n",
    "\n",
    "    # RGB → HSB (HSV)\n",
    "    h, s, v = colorsys.rgb_to_hsv(r, g, b)\n",
    "\n",
    "    # HSB 값 반환 (0~360, 0~100, 0~100)\n",
    "    return {\n",
    "        'H': round(h * 360), #반올림\n",
    "        'S': round(s * 100),\n",
    "        'B': round(v * 100)\n",
    "    }"
   ]
  },
  {
   "cell_type": "code",
   "execution_count": 2411,
   "metadata": {},
   "outputs": [],
   "source": [
    "processed_primary_color1 = rgb_to_hsb(colors_similar['primary_color'])\n",
    "processed_secondary_color1 = rgb_to_hsb(colors_similar['secondary_color'])"
   ]
  },
  {
   "cell_type": "code",
   "execution_count": 2412,
   "metadata": {},
   "outputs": [],
   "source": [
    "processed_primary_color2 = rgb_to_hsb(colors_contrast['primary_color'])\n",
    "processed_secondary_color2 = rgb_to_hsb(colors_contrast['secondary_color'])"
   ]
  },
  {
   "cell_type": "code",
   "execution_count": 2413,
   "metadata": {},
   "outputs": [],
   "source": [
    "processed_primary_color3 = rgb_to_hsb(colors_similar_contrast['primary_color'])\n",
    "processed_secondary_color3 = rgb_to_hsb(colors_similar_contrast['secondary_color'])"
   ]
  },
  {
   "cell_type": "markdown",
   "metadata": {},
   "source": [
    "### IRI 스케일 다루기"
   ]
  },
  {
   "cell_type": "code",
   "execution_count": 2414,
   "metadata": {},
   "outputs": [],
   "source": [
    "# CSV 파일 경로\n",
    "file_path_IRI = \"임이로_학위논문_korean emtion-color dataset 2.0 - IRI-형용사스케일.csv\"\n",
    "# 파일 읽기 (처음엔 컬럼명을 무시하고 불러오기)\n",
    "df_raw_IRI = pd.read_csv(file_path_IRI, header=None)\n",
    "\n",
    "# 첫 번째 행을 컬럼명으로 지정\n",
    "df_raw_IRI.columns = df_raw_IRI.iloc[1]\n",
    "df_IRI = df_raw_IRI[2:]  # 첫 행은 이제 컬럼으로 사용했으니 제외"
   ]
  },
  {
   "cell_type": "markdown",
   "metadata": {},
   "source": [
    "#### 형용사 정리"
   ]
  },
  {
   "cell_type": "code",
   "execution_count": 2415,
   "metadata": {},
   "outputs": [
    {
     "name": "stderr",
     "output_type": "stream",
     "text": [
      "/tmp/ipykernel_897/43394017.py:10: DeprecationWarning: DataFrameGroupBy.apply operated on the grouping columns. This behavior is deprecated, and in a future version of pandas the grouping columns will be excluded from the operation. Either pass `include_groups=False` to exclude the groupings or explicitly select the grouping columns after groupby to silence this warning.\n",
      "  .apply(lambda g: list(g['형용사']))\n"
     ]
    }
   ],
   "source": [
    "\n",
    "# 필요한 열만 추출 ('형용사군', '형용사id', '형용사')\n",
    "adjective_df = df_IRI[['형용사군', '형용사id', '형용사']].dropna()\n",
    "\n",
    "# 형용사id를 숫자로 정리 (필요한 경우)\n",
    "adjective_df['형용사id'] = adjective_df['형용사id'].astype(int)\n",
    "\n",
    "# 형용사군별로 그룹화하여 리스트로 변환\n",
    "grouped_adjectives = (\n",
    "    adjective_df.groupby('형용사군')\n",
    "    .apply(lambda g: list(g['형용사']))\n",
    "    .to_dict()\n",
    ")"
   ]
  },
  {
   "cell_type": "markdown",
   "metadata": {},
   "source": [
    "#### 추출한 감정형용사의 형용사군 검색"
   ]
  },
  {
   "cell_type": "code",
   "execution_count": 2416,
   "metadata": {},
   "outputs": [],
   "source": [
    "def find_adjective_group(adjective, grouped_dict):\n",
    "    \"\"\"\n",
    "    주어진 형용사가 속한 형용사군(key)을 반환.\n",
    "    \"\"\"\n",
    "    for group, adjectives in grouped_dict.items():\n",
    "        if adjective in adjectives:\n",
    "            return group\n",
    "    return None  # 못 찾았을 경우"
   ]
  },
  {
   "cell_type": "code",
   "execution_count": 2417,
   "metadata": {},
   "outputs": [
    {
     "name": "stdout",
     "output_type": "stream",
     "text": [
      "형용사 '멋진'는 '우아한' 형용사군에 속합니다.\n"
     ]
    }
   ],
   "source": [
    "group_name = find_adjective_group(result_IRI, grouped_adjectives)\n",
    "\n",
    "if group_name:\n",
    "    print(f\"형용사 '{result_IRI}'는 '{group_name}' 형용사군에 속합니다.\")\n",
    "else:\n",
    "    print(f\"형용사 '{result_IRI}'는 어떤 형용사군에도 속하지 않습니다.\")"
   ]
  },
  {
   "cell_type": "code",
   "execution_count": 2418,
   "metadata": {},
   "outputs": [],
   "source": [
    "# CSV 파일 경로\n",
    "file_path_IRI_colors = \"임이로_학위논문_korean emtion-color dataset 2.0 - IRI-배색스케일.csv\"\n",
    "# 파일 읽기 (처음엔 컬럼명을 무시하고 불러오기)\n",
    "df_raw_IRI_colors = pd.read_csv(file_path_IRI_colors, header=None)\n",
    "\n",
    "# 첫 번째 행을 컬럼명으로 지정\n",
    "df_raw_IRI_colors.columns = df_raw_IRI_colors.iloc[1]\n",
    "df_IRI_colors = df_raw_IRI_colors[2:]  # 첫 행은 이제 컬럼으로 사용했으니 제외\n",
    "\n",
    "# ----------------------------------------\n",
    "# 색상약호가 'White' 또는 'Black'인 행 제거\n",
    "# ----------------------------------------\n",
    "\n",
    "# '색상약호' 컬럼에 NaN이 있을 수 있으므로 fillna 처리\n",
    "df_IRI_colors = df_IRI_colors[~df_IRI_colors['색상약호'].fillna('').isin(['White', 'Black'])]"
   ]
  },
  {
   "cell_type": "code",
   "execution_count": 2419,
   "metadata": {},
   "outputs": [
    {
     "name": "stdout",
     "output_type": "stream",
     "text": [
      "선택된 배색그룹id: 4\n"
     ]
    }
   ],
   "source": [
    "IRI_colors_df = df_IRI_colors[df_IRI_colors['형용사군'] == group_name]\n",
    "# '배색그룹id' 컬럼에서 고유값만 추출\n",
    "palette_ids = IRI_colors_df['배색그룹id'].dropna().unique()\n",
    "\n",
    "# 랜덤 선택\n",
    "if len(palette_ids) > 0:\n",
    "    chosen_palette_id = random.choice(palette_ids)\n",
    "    print(f\"선택된 배색그룹id: {chosen_palette_id}\")\n",
    "else:\n",
    "    chosen_palette_id = None\n",
    "    print(\"배색그룹id가 존재하지 않습니다.\")\n",
    "    \n",
    "# chosen_palette_id에 해당하는 행만 추출\n",
    "palette_df = IRI_colors_df[IRI_colors_df['배색그룹id'] == chosen_palette_id]"
   ]
  },
  {
   "cell_type": "code",
   "execution_count": 2420,
   "metadata": {},
   "outputs": [
    {
     "data": {
      "text/html": [
       "<div>\n",
       "<style scoped>\n",
       "    .dataframe tbody tr th:only-of-type {\n",
       "        vertical-align: middle;\n",
       "    }\n",
       "\n",
       "    .dataframe tbody tr th {\n",
       "        vertical-align: top;\n",
       "    }\n",
       "\n",
       "    .dataframe thead th {\n",
       "        text-align: right;\n",
       "    }\n",
       "</style>\n",
       "<table border=\"1\" class=\"dataframe\">\n",
       "  <thead>\n",
       "    <tr style=\"text-align: right;\">\n",
       "      <th>1</th>\n",
       "      <th>형용사군id</th>\n",
       "      <th>형용사군</th>\n",
       "      <th>배색그룹id</th>\n",
       "      <th>단일색상 id</th>\n",
       "      <th>R</th>\n",
       "      <th>G</th>\n",
       "      <th>B</th>\n",
       "      <th>Hue</th>\n",
       "      <th>Saturation</th>\n",
       "      <th>Brightness</th>\n",
       "      <th>색상</th>\n",
       "      <th>색상약호</th>\n",
       "      <th>배색방법</th>\n",
       "      <th>NaN</th>\n",
       "      <th>NaN</th>\n",
       "    </tr>\n",
       "  </thead>\n",
       "  <tbody>\n",
       "    <tr>\n",
       "      <th>77</th>\n",
       "      <td>7</td>\n",
       "      <td>우아한</td>\n",
       "      <td>4</td>\n",
       "      <td>1</td>\n",
       "      <td>162</td>\n",
       "      <td>151</td>\n",
       "      <td>148</td>\n",
       "      <td>12</td>\n",
       "      <td>8</td>\n",
       "      <td>63</td>\n",
       "      <td>빨강</td>\n",
       "      <td>R</td>\n",
       "      <td>NaN</td>\n",
       "      <td>NaN</td>\n",
       "      <td>NaN</td>\n",
       "    </tr>\n",
       "    <tr>\n",
       "      <th>78</th>\n",
       "      <td>7</td>\n",
       "      <td>우아한</td>\n",
       "      <td>4</td>\n",
       "      <td>2</td>\n",
       "      <td>64</td>\n",
       "      <td>64</td>\n",
       "      <td>57</td>\n",
       "      <td>59</td>\n",
       "      <td>10</td>\n",
       "      <td>25</td>\n",
       "      <td>노랑</td>\n",
       "      <td>Y</td>\n",
       "      <td>NaN</td>\n",
       "      <td>NaN</td>\n",
       "      <td>NaN</td>\n",
       "    </tr>\n",
       "    <tr>\n",
       "      <th>79</th>\n",
       "      <td>7</td>\n",
       "      <td>우아한</td>\n",
       "      <td>4</td>\n",
       "      <td>3</td>\n",
       "      <td>135</td>\n",
       "      <td>155</td>\n",
       "      <td>145</td>\n",
       "      <td>149</td>\n",
       "      <td>12</td>\n",
       "      <td>60</td>\n",
       "      <td>초록</td>\n",
       "      <td>G</td>\n",
       "      <td>NaN</td>\n",
       "      <td>NaN</td>\n",
       "      <td>NaN</td>\n",
       "    </tr>\n",
       "  </tbody>\n",
       "</table>\n",
       "</div>"
      ],
      "text/plain": [
       "1  형용사군id 형용사군 배색그룹id 단일색상 id    R    G    B  Hue Saturation Brightness  색상  \\\n",
       "77      7  우아한      4       1  162  151  148   12          8         63  빨강   \n",
       "78      7  우아한      4       2   64   64   57   59         10         25  노랑   \n",
       "79      7  우아한      4       3  135  155  145  149         12         60  초록   \n",
       "\n",
       "1  색상약호 배색방법 NaN  NaN  \n",
       "77    R  NaN NaN  NaN  \n",
       "78    Y  NaN NaN  NaN  \n",
       "79    G  NaN NaN  NaN  "
      ]
     },
     "execution_count": 2420,
     "metadata": {},
     "output_type": "execute_result"
    }
   ],
   "source": [
    "palette_df"
   ]
  },
  {
   "cell_type": "code",
   "execution_count": 2421,
   "metadata": {},
   "outputs": [],
   "source": [
    "def choose_color_pair(palette_df):\n",
    "    # 사용할 쌍 정의 (우선순위 순서)\n",
    "    priority_pairs = [(1, 2), (2, 3), (2, 1), (3, 2)]\n",
    "    fallback_pairs = [(1, 3), (3, 1)]\n",
    "\n",
    "    # 현재 데이터프레임에 존재하는 단일색상 id 추출\n",
    "    available_ids = set(palette_df['단일색상 id'].dropna().astype(int).unique())\n",
    "\n",
    "    # 가능한 쌍 필터링\n",
    "    valid_priority_pairs = [pair for pair in priority_pairs if pair[0] in available_ids and pair[1] in available_ids]\n",
    "    valid_fallback_pairs = [pair for pair in fallback_pairs if pair[0] in available_ids and pair[1] in available_ids]\n",
    "\n",
    "    # 랜덤 선택\n",
    "    if valid_priority_pairs:\n",
    "        return random.choice(valid_priority_pairs)\n",
    "    elif valid_fallback_pairs:\n",
    "        return random.choice(valid_fallback_pairs)\n",
    "    else:\n",
    "        return None"
   ]
  },
  {
   "cell_type": "code",
   "execution_count": 2422,
   "metadata": {},
   "outputs": [],
   "source": [
    "def get_palette_dicts(palette_df):\n",
    "    \"\"\"\n",
    "    palette_result 튜플 (id1, id2)에 대해 해당하는 단일색상id 행을\n",
    "    각각 dictionary로 반환\n",
    "    \"\"\"\n",
    "    palette_result = choose_color_pair(palette_df)\n",
    "    id1, id2 = palette_result\n",
    "\n",
    "    # '단일색상 id' 컬럼이 float일 가능성 있으므로 int로 캐스팅\n",
    "    df_cast = palette_df.copy()\n",
    "    df_cast['단일색상 id'] = df_cast['단일색상 id'].astype(int)\n",
    "\n",
    "    # 각 색상 id에 대응하는 행 추출 후 dict 변환\n",
    "    primary_row = df_cast[df_cast['단일색상 id'] == id1].iloc[0].to_dict()\n",
    "    secondary_row = df_cast[df_cast['단일색상 id'] == id2].iloc[0].to_dict()\n",
    "\n",
    "    return {'primary_palette' : primary_row, 'secondary_palette' : secondary_row}"
   ]
  },
  {
   "cell_type": "code",
   "execution_count": 2423,
   "metadata": {},
   "outputs": [],
   "source": [
    "palette_result = get_palette_dicts(palette_df)"
   ]
  },
  {
   "cell_type": "code",
   "execution_count": 2424,
   "metadata": {},
   "outputs": [],
   "source": [
    "def update_saturation_brightness(processed_primary_color, processed_secondary_color, palette_result):\n",
    "    \"\"\"\n",
    "    processed_primary_color와 processed_secondary_color의 S, B 값을\n",
    "    palette_result의 S, B 값으로 업데이트합니다.\n",
    "    \"\"\"\n",
    "    processed_primary_color['S'] = palette_result['primary_palette']['Saturation']\n",
    "    processed_primary_color['B'] = palette_result['primary_palette']['Brightness']\n",
    "    processed_secondary_color['S'] = palette_result['secondary_palette']['Saturation']\n",
    "    processed_secondary_color['B'] = palette_result['secondary_palette']['Brightness']\n",
    "\n",
    "    return {'updated_primary_color': processed_primary_color,\n",
    "            'updated_secondary_color': processed_secondary_color\n",
    "            }"
   ]
  },
  {
   "cell_type": "code",
   "execution_count": 2425,
   "metadata": {},
   "outputs": [],
   "source": [
    "updated_colors1 = update_saturation_brightness(processed_primary_color1, processed_secondary_color1, palette_result)\n",
    "updated_colors2 = update_saturation_brightness(processed_primary_color2, processed_secondary_color2, palette_result)\n",
    "updated_colors3 = update_saturation_brightness(processed_primary_color3, processed_secondary_color3, palette_result)"
   ]
  },
  {
   "cell_type": "code",
   "execution_count": 2426,
   "metadata": {},
   "outputs": [
    {
     "data": {
      "text/plain": [
       "{'updated_primary_color': {'H': 214, 'S': '10', 'B': '25'},\n",
       " 'updated_secondary_color': {'H': 291, 'S': '12', 'B': '60'}}"
      ]
     },
     "execution_count": 2426,
     "metadata": {},
     "output_type": "execute_result"
    }
   ],
   "source": [
    "updated_colors1"
   ]
  },
  {
   "cell_type": "code",
   "execution_count": 2427,
   "metadata": {},
   "outputs": [],
   "source": [
    "import matplotlib.pyplot as plt"
   ]
  },
  {
   "cell_type": "code",
   "execution_count": 2428,
   "metadata": {},
   "outputs": [],
   "source": [
    "def hsb_to_rgb_tuple(hsb):\n",
    "    h = int(hsb['H']) / 360\n",
    "    s = int(hsb['S']) / 100\n",
    "    v = int(hsb['B']) / 100\n",
    "    r, g, b = colorsys.hsv_to_rgb(h, s, v)\n",
    "    return (r, g, b)  # matplotlib uses 0-1 float RGB"
   ]
  },
  {
   "cell_type": "code",
   "execution_count": 2429,
   "metadata": {},
   "outputs": [],
   "source": [
    "def emotion_to_colors(top_emotions, color_results):\n",
    "# RGB 변환\n",
    "    rgb1 = hsb_to_rgb_tuple(color_results['updated_primary_color'])\n",
    "    rgb2 = hsb_to_rgb_tuple(color_results['updated_secondary_color'])\n",
    "\n",
    "    # 시각화\n",
    "    fig, ax = plt.subplots(1, 2, figsize=(4, 2))\n",
    "    ax[0].imshow([[rgb1]])\n",
    "    ax[0].set_title(\"Primary Color\")\n",
    "    ax[0].axis('off')\n",
    "\n",
    "    ax[1].imshow([[rgb2]])\n",
    "    ax[1].set_title(\"Secondary Color\")\n",
    "    ax[1].axis('off')\n",
    "    \n",
    "    # 한글 폰트 설정\n",
    "    plt.rcParams['font.family'] = 'NanumGothic'\n",
    "\n",
    "    # 경고 방지\n",
    "    plt.rcParams['axes.unicode_minus'] = False\n",
    "\n",
    "    plt.suptitle(f\"{top_emotions[2]}, {top_emotions[0]}과(와) {top_emotions[1]}\", fontsize=14)\n",
    "    plt.tight_layout()\n",
    "    plt.show()"
   ]
  },
  {
   "cell_type": "code",
   "execution_count": 2430,
   "metadata": {},
   "outputs": [
    {
     "data": {
      "image/png": "[encoded data removed]",
      "text/plain": [
       "<Figure size 400x200 with 2 Axes>"
      ]
     },
     "metadata": {},
     "output_type": "display_data"
    },
    {
     "data": {
      "image/png": "[encoded data removed]",
      "text/plain": [
       "<Figure size 400x200 with 2 Axes>"
      ]
     },
     "metadata": {},
     "output_type": "display_data"
    },
    {
     "data": {
      "image/png": "[encoded data removed]",
      "text/plain": [
       "<Figure size 400x200 with 2 Axes>"
      ]
     },
     "metadata": {},
     "output_type": "display_data"
    }
   ],
   "source": [
    "emotion_to_colors(top_emotions_similar, updated_colors1)\n",
    "emotion_to_colors(top_emotions_contrast, updated_colors2)\n",
    "emotion_to_colors(top_emotions_similaremotion_contrastcolor, updated_colors3)"
   ]
  }
 ],
 "metadata": {
  "kernelspec": {
   "display_name": "Python 3",
   "language": "python",
   "name": "python3"
  },
  "language_info": {
   "codemirror_mode": {
    "name": "ipython",
    "version": 3
   },
   "file_extension": ".py",
   "mimetype": "text/x-python",
   "name": "python",
   "nbconvert_exporter": "python",
   "pygments_lexer": "ipython3",
   "version": "3.12.3"
  }
 },
 "nbformat": 4,
 "nbformat_minor": 2
}
