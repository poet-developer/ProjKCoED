{
 "cells": [
  {
   "cell_type": "markdown",
   "metadata": {},
   "source": [
    "## 1. color mapping\n",
    "#### context engineering 전, dummy를 가지고 색 선정 함수를 정의하고자함."
   ]
  },
  {
   "cell_type": "code",
   "execution_count": 59,
   "metadata": {},
   "outputs": [],
   "source": [
    "import pandas as pd"
   ]
  },
  {
   "cell_type": "markdown",
   "metadata": {},
   "source": [
    "- KOTE 44가지 감정의 긍/부정/중립 기준 적용"
   ]
  },
  {
   "cell_type": "code",
   "execution_count": 55,
   "metadata": {},
   "outputs": [],
   "source": [
    "positive_emotions = ['감동/감탄', '고마움', '기대감', '기쁨', '뿌듯함',\n",
    "'신기함/관심', '아껴주는', '안심/신뢰', '존경', '즐거움/신남', '편안/쾌적', '행복', '환영/호의',\n",
    "'흐뭇함(귀여움/예쁨)',\n",
    "]\n",
    "negative_emotions = ['경악', '공포/무서움', '귀찮음', '당황/난처', '부끄러움', '부담/안_내킴', '불쌍함/연민', '불안/걱정', \n",
    "                     '불평/불만', '슬픔', '서러움', '안타까움/실망', '어이없음', '역겨움/징그러움', '의심/불신', '짜증', \n",
    "                     '재미없음', '절망', '죄책감', '증오/혐오', '지긋지긋', '패배/자기혐오', '한심함', '화남/분노', '힘듦/지침']\n",
    "neutral_emotions = ['깨달음', '놀람', '비장함', '우쭐댐/무시함']\n",
    "\n",
    "no_emotion = ['없음']\n"
   ]
  },
  {
   "cell_type": "code",
   "execution_count": 89,
   "metadata": {},
   "outputs": [],
   "source": [
    "result_emotions = {'불쌍함/연민': 0.44,\n",
    "'불안/걱정': 0.56,\n",
    "'서러움': 0.51,\n",
    "'슬픔': 0.7,\n",
    "'아껴주는' : 0.47,\n",
    "'안타까움/실망': 0.31,\n",
    "'없음': 0.8,\n",
    "'기쁨':0.6\n",
    "}\n",
    "\n",
    "result_IRI = '맑은'"
   ]
  },
  {
   "cell_type": "code",
   "execution_count": 90,
   "metadata": {},
   "outputs": [],
   "source": [
    "# 감정 출력 값 전처리 : 없음을 제거, 감정 범주화에 해당하지 않는 감정 제거 ex) 한심함\n",
    "def filter_emotions(result_emotions, result_IRI):\n",
    "    # Filter out the '없음' key\n",
    "    filtered_emotions = {key: value for key, value in result_emotions.items() if key != '없음'}\n",
    "    \n",
    "    # Sort emotions by their values in descending order\n",
    "    sorted_emotions = sorted(filtered_emotions.items(), key=lambda item: item[1], reverse=True)\n",
    "    \n",
    "    # Extract the keys of the top two emotions\n",
    "    top_two_emotions = [sorted_emotions[0][0], sorted_emotions[1][0], result_IRI] if len(sorted_emotions) >= 2 else []\n",
    "    \n",
    "    return top_two_emotions"
   ]
  },
  {
   "cell_type": "code",
   "execution_count": 91,
   "metadata": {},
   "outputs": [
    {
     "name": "stdout",
     "output_type": "stream",
     "text": [
      "['슬픔', '기쁨', '맑은']\n"
     ]
    }
   ],
   "source": [
    "# Example usage\n",
    "## 주-보조 감정은 감정 분류 모델(KPoEM)에서, 형용사는 LLM모델이 반환.\n",
    "top_emotions = filter_emotions(result_emotions, result_IRI)\n",
    "print(top_emotions)  # Output: ['슬픔', '기쁨']"
   ]
  },
  {
   "cell_type": "code",
   "execution_count": 123,
   "metadata": {},
   "outputs": [],
   "source": [
    "# CSV 파일 경로\n",
    "file_path = \"korean emtion-color dataset 2.0 - SUM.csv\"\n",
    "# 파일 읽기 (처음엔 컬럼명을 무시하고 불러오기)\n",
    "df_raw = pd.read_csv(file_path, header=None)\n",
    "\n",
    "# 첫 번째 행을 컬럼명으로 지정\n",
    "df_raw.columns = df_raw.iloc[1]\n",
    "df = df_raw[2:]  # 첫 행은 이제 컬럼으로 사용했으니 제외"
   ]
  },
  {
   "cell_type": "code",
   "execution_count": 96,
   "metadata": {},
   "outputs": [],
   "source": [
    "# Function to categorize the emotion\n",
    "def categorize_emotion(primary_emotion, secondary_emotion):\n",
    "    # 감정 사전 정의 (예시, 필요에 따라 확장 가능)\n",
    "\n",
    "    # 내부 분류 함수\n",
    "    def classify(emotion):\n",
    "        if emotion in positive_emotions:\n",
    "            return \"positive\"\n",
    "        elif emotion in negative_emotions:\n",
    "            return \"negative\"\n",
    "        elif emotion in neutral_emotions:\n",
    "            return \"neutral\" # 아직 처리 안함.\n",
    "        else:\n",
    "            return \"no_emotion\" #아직 처리 안함.\n",
    "    \n",
    "    def handle_neutral_case(primary_emotion, secondary_emotion):\n",
    "        # 감정이 'neutral'인 경우는 별도의 로직으로 처리\n",
    "        if primary_emotion == \"neutral\" or secondary_emotion == \"neutral\":\n",
    "            return \"배색3\"\n",
    "\n",
    "    # 각각 분류\n",
    "    primary_category = classify(primary_emotion)\n",
    "    secondary_category = classify(secondary_emotion)\n",
    "    \n",
    "    # 'neutral'이 포함된 경우는 별도 함수로 처리\n",
    "    if \"neutral\" in [primary_category, secondary_category] :\n",
    "        print(f\"Primary: {primary_category}, Secondary: {secondary_category}\")\n",
    "        return handle_neutral_case(primary_category, secondary_category)\n",
    "    print(f\"Primary: {primary_category}, Secondary: {secondary_category}\")\n",
    "\n",
    "    # 조건 비교 후 mode 반환\n",
    "    if primary_category == secondary_category in [\"positive\", \"negative\"]:\n",
    "        return \"유사색상\"\n",
    "    else:\n",
    "        return \"대비색상\"\n",
    "\n"
   ]
  },
  {
   "cell_type": "code",
   "execution_count": 97,
   "metadata": {},
   "outputs": [
    {
     "name": "stdout",
     "output_type": "stream",
     "text": [
      "Primary: negative, Secondary: positive\n",
      "대비색상\n"
     ]
    }
   ],
   "source": [
    "# Example usage\n",
    "print(categorize_emotion(top_emotions[0],top_emotions[1]))"
   ]
  },
  {
   "cell_type": "code",
   "execution_count": 171,
   "metadata": {},
   "outputs": [],
   "source": [
    "def categorize_colors(color):\n",
    "    munsell_colors = ['R', 'YR', 'Y', 'GY', 'G', 'BG', 'B', 'PB', 'P', 'RP']\n",
    "    total = len(munsell_colors)\n",
    "\n",
    "    if color not in munsell_colors:\n",
    "        return \"unknown_color\"\n",
    "\n",
    "    idx = munsell_colors.index(color)\n",
    "\n",
    "    # 유사색상군\n",
    "    similar_1_idx = [(idx - 1) % total, (idx + 1) % total]\n",
    "    similar_2_idx = [(idx - 2) % total, (idx + 2) % total]\n",
    "\n",
    "    # 대비색상군\n",
    "    contrast_2_idx = [(idx - 3) % total, (idx + 3) % total]\n",
    "    contrast_1_idx = [(idx - 4) % total, (idx + 4) % total]\n",
    "    contrast_idx = [(idx - 5) % total]  # 보색 (정반대 5칸 거리)\n",
    "\n",
    "    # 변환\n",
    "    similar_colors_1 = [munsell_colors[i] for i in similar_1_idx]\n",
    "    similar_colors_2 = [munsell_colors[i] for i in similar_2_idx]\n",
    "    contrast_colors_2 = [munsell_colors[i] for i in contrast_2_idx]\n",
    "    contrast_colors_1 = [munsell_colors[i] for i in contrast_1_idx]\n",
    "    contrast_color = [munsell_colors[i] for i in contrast_idx]\n",
    "\n",
    "    return {\n",
    "        \"center_color\": color,\n",
    "        \"similar_colors_1\": similar_colors_1,\n",
    "        \"similar_colors_2\": similar_colors_2,\n",
    "        \"contrast_colors_1\": contrast_colors_1,\n",
    "        \"contrast_colors_2\": contrast_colors_2,\n",
    "        \"contrast_color\": contrast_color  # 보색\n",
    "    }\n",
    "        "
   ]
  },
  {
   "cell_type": "code",
   "execution_count": 236,
   "metadata": {},
   "outputs": [],
   "source": [
    "def define_colors(primary_emotion, secondary_emotion, df):\n",
    "    mode_colors = categorize_emotion(primary_emotion, secondary_emotion)\n",
    "    top_ranked_value = df[df['감정 어휘'] == primary_emotion].sort_values(by='평가 순위').iloc[0].to_dict()\n",
    "    primary_color = categorize_colors(top_ranked_value['색상약호'])\n",
    "    \n",
    "    # 유사색상 모드일 때\n",
    "    if mode_colors == \"유사색상\":\n",
    "        secondary_ranked_value = df[df['감정 어휘'] == secondary_emotion].sort_values(by='평가 순위').iloc[0].to_dict()\n",
    "        print(secondary_ranked_value)\n",
    "        \n",
    "    # 대비색상 모드일 때\n",
    "    elif mode_colors == \"대비색상\": \n",
    "        secondary_ranked_df = df[df['감정 어휘'] == secondary_emotion]\n",
    "        \n",
    "        contrast_matches_1 = []\n",
    "        contrast_matches_2 = []\n",
    "        contrast_match_exact = []\n",
    "\n",
    "                \n",
    "        # contrast_colors_1 체크\n",
    "        for contrast_color in primary_color['contrast_colors_1']:\n",
    "            matched = secondary_ranked_df[secondary_ranked_df['색상약호'] == contrast_color]\n",
    "            if not matched.empty:\n",
    "                contrast_matches_1.append(matched)\n",
    "\n",
    "        # contrast_colors_2 체크\n",
    "        for contrast_color in primary_color['contrast_colors_2']:\n",
    "            matched = secondary_ranked_df[secondary_ranked_df['색상약호'] == contrast_color]\n",
    "            if not matched.empty:\n",
    "                contrast_matches_2.append(matched)\n",
    "                \n",
    "        # contrast_color (보색) 체크\n",
    "        contrast_color = primary_color['contrast_color'][0]  # 단일 값 리스트\n",
    "        matched_exact = secondary_ranked_df[secondary_ranked_df['색상약호'] == contrast_color]\n",
    "        if not matched_exact.empty:\n",
    "            contrast_match_exact.append(matched_exact)\n",
    "\n",
    "        #출력\n",
    "        print(\"대비색상군1과 일치하는 색상 ↓\")\n",
    "        print(pd.concat(contrast_matches_1) if contrast_matches_1 else \"대비색상군1 없음\")\n",
    "\n",
    "        print(\"\\n대비색상군2와 일치하는 색상 ↓\")\n",
    "        print(pd.concat(contrast_matches_2) if contrast_matches_2 else \"대비색상군2 없음\")\n",
    "\n",
    "        print(\"\\n보색과 정확히 일치하는 색상 ↓\")\n",
    "        print(pd.concat(contrast_match_exact) if contrast_match_exact else \"보색 일치 항목 없음\")\n",
    "        \n",
    "    #보색이 정확히 일치하는 경우\n",
    "    if contrast_match_exact:\n",
    "        contrast_dicts = contrast_match_exact[0].to_dict(orient='records')\n",
    "        return min(contrast_dicts, key=lambda x: x['평가 순위']) # '평가 순위'가 가장 높은 값 (숫자가 클수록 높은 순위라면 ↓)\n",
    "    \n",
    "    # 대비색상군1과 대비색상군2 중 하나라도 일치하는 경우.\n",
    "    if contrast_matches_1 or contrast_matches_2: \n",
    "        if contrast_matches_1: # 대비색상군1을 우선 선정.\n",
    "            contrast_matches_1_df = pd.concat(contrast_matches_1).to_dict(orient='records')\n",
    "            print(contrast_matches_1_df)\n",
    "            return min(contrast_matches_1_df, key=lambda x: x['평가 순위'])\n",
    "        else: #대비색상군1이 없고, 대비색상군2가 있는 경우\n",
    "            contrast_matches_2_df = pd.concat(contrast_matches_2).to_dict(orient='records')\n",
    "            print(contrast_matches_2_df)\n",
    "            return min(contrast_matches_2_df, key=lambda x: x['평가 순위'])\n",
    "        \n",
    "    # 예외처리 : 대비색상, 대비색상군1, 대비색상군2가 전부 없는 경우\n",
    "    \n",
    "\n",
    "    "
   ]
  },
  {
   "cell_type": "code",
   "execution_count": 237,
   "metadata": {},
   "outputs": [
    {
     "name": "stdout",
     "output_type": "stream",
     "text": [
      "Primary: negative, Secondary: positive\n",
      "대비색상군1과 일치하는 색상 ↓\n",
      "대비색상군1 없음\n",
      "\n",
      "대비색상군2와 일치하는 색상 ↓\n",
      "1  감정id 감정 어휘 평가 순위    R    G    B   샘플  \\\n",
      "95   17    기쁨     4  208   47   72  NaN   \n",
      "96   17    기쁨     5  239  108  112  NaN   \n",
      "97   17    기쁨     6  231  213  212  NaN   \n",
      "\n",
      "1                                             출처/참고문헌  \\\n",
      "95  김애경,and 오윤경. \"긍정 및 부정 정서어휘에 대한 색 반응 연구.\" 조형미디어...   \n",
      "96  김애경,and 오윤경. \"긍정 및 부정 정서어휘에 대한 색 반응 연구.\" 조형미디어...   \n",
      "97  김애경,and 오윤경. \"긍정 및 부정 정서어휘에 대한 색 반응 연구.\" 조형미디어...   \n",
      "\n",
      "1                                    출처/참고문헌2  색상 색상약호 색상 온도  NaN  \n",
      "95  https://gist.github.com/hidex7777/5268703  빨강    R  Warm  NaN  \n",
      "96  https://gist.github.com/hidex7777/5268704  빨강    R  Warm  NaN  \n",
      "97  https://gist.github.com/hidex7777/5268705  빨강    R  Warm  NaN  \n",
      "\n",
      "보색과 정확히 일치하는 색상 ↓\n",
      "1  감정id 감정 어휘 평가 순위    R    G    B   샘플  \\\n",
      "92   17    기쁨     1  238  201    0  NaN   \n",
      "93   17    기쁨     2  250  216   49  NaN   \n",
      "94   17    기쁨     3  239  230  198  NaN   \n",
      "\n",
      "1                                             출처/참고문헌  \\\n",
      "92  김애경,and 오윤경. \"긍정 및 부정 정서어휘에 대한 색 반응 연구.\" 조형미디어...   \n",
      "93  김애경,and 오윤경. \"긍정 및 부정 정서어휘에 대한 색 반응 연구.\" 조형미디어...   \n",
      "94  김애경,and 오윤경. \"긍정 및 부정 정서어휘에 대한 색 반응 연구.\" 조형미디어...   \n",
      "\n",
      "1                                    출처/참고문헌2  색상 색상약호 색상 온도  NaN  \n",
      "92  https://gist.github.com/hidex7777/5268700  노랑    Y  Warm  NaN  \n",
      "93  https://gist.github.com/hidex7777/5268701  노랑    Y  Warm  NaN  \n",
      "94  https://gist.github.com/hidex7777/5268702  노랑    Y  Warm  NaN  \n"
     ]
    },
    {
     "data": {
      "text/plain": [
       "{'감정id': '17',\n",
       " '감정 어휘': '기쁨',\n",
       " '평가 순위': '1',\n",
       " 'R': '238',\n",
       " 'G': '201',\n",
       " 'B': '0',\n",
       " '샘플': nan,\n",
       " '출처/참고문헌': '김애경,and 오윤경. \"긍정 및 부정 정서어휘에 대한 색 반응 연구.\" 조형미디어학 19.1 (2016): 59-66.',\n",
       " '출처/참고문헌2': 'https://gist.github.com/hidex7777/5268700',\n",
       " '색상': '노랑',\n",
       " '색상약호': 'Y',\n",
       " '색상 온도': 'Warm',\n",
       " nan: nan}"
      ]
     },
     "execution_count": 237,
     "metadata": {},
     "output_type": "execute_result"
    }
   ],
   "source": [
    "color = define_colors(top_emotions[0],top_emotions[1], df) # 주감정과 보조감정, KCoED 데이터셋\n",
    "color\n"
   ]
  }
 ],
 "metadata": {
  "kernelspec": {
   "display_name": "Python 3",
   "language": "python",
   "name": "python3"
  },
  "language_info": {
   "codemirror_mode": {
    "name": "ipython",
    "version": 3
   },
   "file_extension": ".py",
   "mimetype": "text/x-python",
   "name": "python",
   "nbconvert_exporter": "python",
   "pygments_lexer": "ipython3",
   "version": "3.12.3"
  }
 },
 "nbformat": 4,
 "nbformat_minor": 2
}
