{
 "cells": [
  {
   "cell_type": "markdown",
   "metadata": {},
   "source": [
    "## 진행상황\n",
    "\n",
    "- 중성색에 대한 알고리즘은 아직 구현하지 아니함.\n",
    "- KOTE 감정범주화에 대응하는 새로운 색상값을 라벨링하는 것으로 연구 방향을 정함.\n",
    "- 106개의 IRI 이미지 형용사는 아직 정리하지 아니함\n",
    "- Blossom 프롬프트 엔지니어링 해야함. inpu text에 대한 일관성 부족"
   ]
  },
  {
   "cell_type": "markdown",
   "metadata": {},
   "source": [
    "## 1. color mapping\n",
    "#### context engineering 전, dummy를 가지고 색 선정 함수를 정의하고자함."
   ]
  },
  {
   "cell_type": "code",
   "execution_count": 19,
   "metadata": {},
   "outputs": [],
   "source": [
    "import pandas as pd\n",
    "import matplotlib.pyplot as plt\n",
    "import matplotlib.gridspec as gridspec\n",
    "import random\n",
    "import colorsys"
   ]
  },
  {
   "cell_type": "markdown",
   "metadata": {},
   "source": [
    "- KOTE 44가지 감정의 긍/부정/중립 기준 적용"
   ]
  },
  {
   "cell_type": "code",
   "execution_count": 20,
   "metadata": {},
   "outputs": [],
   "source": [
    "positive_emotions = ['감동/감탄', '고마움', '기대감', '기쁨', '뿌듯함',\n",
    "'신기함/관심', '아껴주는', '안심/신뢰', '존경', '즐거움/신남', '편안/쾌적', '행복', '환영/호의',\n",
    "'흐뭇함(귀여움/예쁨)',\n",
    "]\n",
    "negative_emotions = ['경악', '공포/무서움', '귀찮음', '당황/난처', '부끄러움', '부담/안_내킴', '불쌍함/연민', '불안/걱정', \n",
    "                     '불평/불만', '슬픔', '서러움', '안타까움/실망', '어이없음', '역겨움/징그러움', '의심/불신', '짜증', \n",
    "                     '재미없음', '절망', '죄책감', '증오/혐오', '지긋지긋', '패배/자기혐오', '한심함', '화남/분노', '힘듦/지침', '분노']\n",
    "neutral_emotions = ['깨달음', '놀람', '비장함', '우쭐댐/무시함']\n",
    "\n",
    "no_emotion = ['없음']"
   ]
  },
  {
   "cell_type": "code",
   "execution_count": 21,
   "metadata": {},
   "outputs": [],
   "source": [
    "result_emotions_contrast = {'불쌍함/연민': 0.44,\n",
    "'불안/걱정': 0.56,\n",
    "'서러움': 0.51,\n",
    "'슬픔': 0.7,\n",
    "'아껴주는' : 0.47,\n",
    "'안타까움/실망': 0.31,\n",
    "'없음': 0.8,\n",
    "'기쁨':0.6\n",
    "}\n",
    "\n",
    "result_emotions_similar = {'불쌍함/연민': 0.44,\n",
    "'불안/걱정': 0.56,\n",
    "'서러움': 0.51,\n",
    "'슬픔': 0.7,\n",
    "'아껴주는' : 0.47,\n",
    "'안타까움/실망': 0.31,\n",
    "'없음': 0.8,\n",
    "'죄책감':0.6\n",
    "}\n",
    "\n",
    "result_emotions_similaremotion_contrastcolor = {'불쌍함/연민': 0.44,\n",
    "'불안/걱정': 0.56,\n",
    "'서러움': 0.51,\n",
    "'슬픔': 0.7,\n",
    "'아껴주는' : 0.47,\n",
    "'안타까움/실망': 0.31,\n",
    "'없음': 0.8,\n",
    "'분노':0.6\n",
    "}\n",
    "\n",
    "result_IRI = '사랑스러운'"
   ]
  },
  {
   "cell_type": "markdown",
   "metadata": {},
   "source": [
    "### KCoED 데이터셋 & IRI 데이터셋 가져오기"
   ]
  },
  {
   "cell_type": "code",
   "execution_count": 22,
   "metadata": {},
   "outputs": [],
   "source": [
    "# CSV 파일 경로\n",
    "file_path = \"../data/korean emtion-color dataset 2.0 - SUM.csv\"\n",
    "# 파일 읽기 (처음엔 컬럼명을 무시하고 불러오기)\n",
    "df_raw = pd.read_csv(file_path, header=None)\n",
    "\n",
    "# 첫 번째 행을 컬럼명으로 지정\n",
    "df_raw.columns = df_raw.iloc[1]\n",
    "df = df_raw[2:]  # 첫 행은 이제 컬럼으로 사용했으니 제외\n",
    "\n",
    "# CSV 파일 경로\n",
    "file_path_IRI = \"../data/임이로_학위논문_korean emtion-color dataset 2.0 - IRI-형용사스케일.csv\"\n",
    "# 파일 읽기 (처음엔 컬럼명을 무시하고 불러오기)\n",
    "df_raw_IRI = pd.read_csv(file_path_IRI, header=None)\n",
    "\n",
    "# 첫 번째 행을 컬럼명으로 지정\n",
    "df_raw_IRI.columns = df_raw_IRI.iloc[1]\n",
    "df_IRI = df_raw_IRI[2:]  # 첫 행은 이제 컬럼으로 사용했으니 제외\n",
    "\n",
    "# CSV 파일 경로\n",
    "file_path_IRI_colors = \"../data/임이로_학위논문_korean emtion-color dataset 2.0 - IRI-배색스케일.csv\"\n",
    "# 파일 읽기 (처음엔 컬럼명을 무시하고 불러오기)\n",
    "df_raw_IRI_colors = pd.read_csv(file_path_IRI_colors, header=None)\n",
    "\n",
    "# 첫 번째 행을 컬럼명으로 지정\n",
    "df_raw_IRI_colors.columns = df_raw_IRI_colors.iloc[1]\n",
    "df_IRI_colors = df_raw_IRI_colors[2:]  # 첫 행은 이제 컬럼으로 사용했으니 제외\n",
    "\n",
    "# ----------------------------------------\n",
    "# 색상약호가 'White' 또는 'Black'인 행 제거\n",
    "# ----------------------------------------\n",
    "\n",
    "# '색상약호' 컬럼에 NaN이 있을 수 있으므로 fillna 처리\n",
    "df_IRI_colors = df_IRI_colors[~df_IRI_colors['색상약호'].fillna('').isin(['White', 'Black'])]"
   ]
  },
  {
   "cell_type": "code",
   "execution_count": 23,
   "metadata": {},
   "outputs": [
    {
     "name": "stderr",
     "output_type": "stream",
     "text": [
      "/tmp/ipykernel_2401/2318276721.py:10: DeprecationWarning: DataFrameGroupBy.apply operated on the grouping columns. This behavior is deprecated, and in a future version of pandas the grouping columns will be excluded from the operation. Either pass `include_groups=False` to exclude the groupings or explicitly select the grouping columns after groupby to silence this warning.\n",
      "  .apply(lambda g: list(g['형용사']))\n"
     ]
    }
   ],
   "source": [
    "# 필요한 열만 추출 ('형용사군', '형용사id', '형용사')\n",
    "adjective_df = df_IRI[['형용사군', '형용사id', '형용사']].dropna()\n",
    "\n",
    "# 형용사id를 숫자로 정리 (필요한 경우)\n",
    "adjective_df['형용사id'] = adjective_df['형용사id'].astype(int)\n",
    "\n",
    "# 형용사군별로 그룹화하여 리스트로 변환\n",
    "grouped_adjectives = (\n",
    "    adjective_df.groupby('형용사군')\n",
    "    .apply(lambda g: list(g['형용사']))\n",
    "    .to_dict()\n",
    ")"
   ]
  },
  {
   "cell_type": "markdown",
   "metadata": {},
   "source": [
    "### 주감정/보조감정에 대해 KCoED데이터셋에서 주색, 보조색을 선정"
   ]
  },
  {
   "cell_type": "code",
   "execution_count": 24,
   "metadata": {},
   "outputs": [],
   "source": [
    "# 감정 출력 값 전처리 : 없음을 제거, 감정 범주화에 해당하지 않는 감정 제거 ex) 한심함\n",
    "def filter_emotions(result_emotions, result_IRI):\n",
    "    # Filter out the '없음' key\n",
    "    filtered_emotions = {key: value for key, value in result_emotions.items() if key != '없음'}\n",
    "    \n",
    "    # Sort emotions by their values in descending order\n",
    "    sorted_emotions = sorted(filtered_emotions.items(), key=lambda item: item[1], reverse=True)\n",
    "    \n",
    "    # Extract the keys of the top two emotions\n",
    "    top_two_emotions = [sorted_emotions[0][0], sorted_emotions[1][0], result_IRI] if len(sorted_emotions) >= 2 else []\n",
    "    \n",
    "    return top_two_emotions"
   ]
  },
  {
   "cell_type": "code",
   "execution_count": 25,
   "metadata": {},
   "outputs": [
    {
     "name": "stdout",
     "output_type": "stream",
     "text": [
      "['슬픔', '기쁨', '사랑스러운'] ['슬픔', '죄책감', '사랑스러운'] ['슬픔', '분노', '사랑스러운']\n"
     ]
    }
   ],
   "source": [
    "# Example usage\n",
    "## 주-보조 감정은 감정 분류 모델(KPoEM)에서, 형용사는 LLM모델이 반환.\n",
    "top_emotions_contrast = filter_emotions(result_emotions_contrast, result_IRI)\n",
    "top_emotions_similar = filter_emotions(result_emotions_similar, result_IRI)\n",
    "top_emotions_similaremotion_contrastcolor = filter_emotions(result_emotions_similaremotion_contrastcolor, result_IRI)\n",
    "print(top_emotions_contrast, top_emotions_similar, top_emotions_similaremotion_contrastcolor)  # Output: ['슬픔', '기쁨']"
   ]
  },
  {
   "cell_type": "code",
   "execution_count": 26,
   "metadata": {},
   "outputs": [],
   "source": [
    "# Function to categorize the emotion\n",
    "def categorize_emotion(primary_emotion, secondary_emotion):\n",
    "    # 감정 사전 정의 (예시, 필요에 따라 확장 가능)\n",
    "\n",
    "    # 내부 분류 함수\n",
    "    def classify(emotion):\n",
    "        if emotion in positive_emotions:\n",
    "            return \"positive\"\n",
    "        elif emotion in negative_emotions:\n",
    "            return \"negative\"\n",
    "        elif emotion in neutral_emotions:\n",
    "            return \"neutral\" # 아직 처리 안함.\n",
    "        else:\n",
    "            return \"no_emotion\" #아직 처리 안함.\n",
    "    \n",
    "    def handle_neutral_case(primary_emotion, secondary_emotion):\n",
    "        # 감정이 'neutral'인 경우는 별도의 로직으로 처리\n",
    "        if primary_emotion == \"neutral\" or secondary_emotion == \"neutral\":\n",
    "            return \"배색3\"\n",
    "\n",
    "    # 각각 분류\n",
    "    primary_category = classify(primary_emotion)\n",
    "    secondary_category = classify(secondary_emotion)\n",
    "    \n",
    "    # 'neutral'이 포함된 경우는 별도 함수로 처리\n",
    "    if \"neutral\" in [primary_category, secondary_category] :\n",
    "        print(f\"Primary: {primary_category}, Secondary: {secondary_category}\")\n",
    "        return handle_neutral_case(primary_category, secondary_category)\n",
    "    \n",
    "    # 조건 비교 후 mode 반환\n",
    "    if primary_category == secondary_category in [\"positive\", \"negative\"]:\n",
    "        mode1 = \"유사색상\"\n",
    "        print(f\"Primary: {primary_category}, Secondary: {secondary_category}, Mode : {mode1}\")\n",
    "        return \"유사색상\"\n",
    "    else:\n",
    "        mode1 = \"유사색상\"\n",
    "        print(f\"Primary: {primary_category}, Secondary: {secondary_category}, Mode : {mode1}\")\n",
    "        return \"대비색상\"\n",
    "\n"
   ]
  },
  {
   "cell_type": "code",
   "execution_count": 27,
   "metadata": {},
   "outputs": [],
   "source": [
    "def get_color(emotion, df):\n",
    "    filtered = df[(df['감정 어휘'] == emotion) & (df['평가 순위'] == '1')]\n",
    "    filtered_df_array = filtered.to_dict(orient='records')\n",
    "\n",
    "    # (예외처리) 무작위로 하나 선택\n",
    "    if filtered_df_array:\n",
    "        return random.choice(filtered_df_array)\n",
    "    else:\n",
    "        return None"
   ]
  },
  {
   "cell_type": "code",
   "execution_count": 28,
   "metadata": {},
   "outputs": [],
   "source": [
    "def get_color_info(top_ranked_value):\n",
    "    munsell_colors = ['R', 'YR', 'Y', 'GY', 'G', 'BG', 'B', 'PB', 'P', 'RP']\n",
    "    total = len(munsell_colors)\n",
    "\n",
    "    if top_ranked_value['색상약호'] not in munsell_colors:\n",
    "        return \"unknown_color\"\n",
    "    # 색상약호의 인덱스 찾기\n",
    "    idx = munsell_colors.index(top_ranked_value['색상약호'])\n",
    "\n",
    "    # 유사색상군\n",
    "    similar_1_idx = [(idx - 1) % total, (idx + 1) % total]\n",
    "    similar_2_idx = [(idx - 2) % total, (idx + 2) % total]\n",
    "\n",
    "    # 대비색상군\n",
    "    contrast_2_idx = [(idx - 3) % total, (idx + 3) % total]\n",
    "    contrast_1_idx = [(idx - 4) % total, (idx + 4) % total]\n",
    "    contrast_idx = [(idx - 5) % total]  # 보색 (정반대 5칸 거리)\n",
    "\n",
    "    # 변환\n",
    "    similar_colors_1 = [munsell_colors[i] for i in similar_1_idx]\n",
    "    similar_colors_2 = [munsell_colors[i] for i in similar_2_idx]\n",
    "    contrast_colors_2 = [munsell_colors[i] for i in contrast_2_idx]\n",
    "    contrast_colors_1 = [munsell_colors[i] for i in contrast_1_idx]\n",
    "    contrast_color = [munsell_colors[i] for i in contrast_idx]\n",
    "\n",
    "    return {\n",
    "        \"center_color\": top_ranked_value,\n",
    "        \"similar_colors_1\": similar_colors_1,\n",
    "        \"similar_colors_2\": similar_colors_2,\n",
    "        \"contrast_colors_1\": contrast_colors_1,\n",
    "        \"contrast_colors_2\": contrast_colors_2,\n",
    "        \"contrast_color\": contrast_color  # 보색\n",
    "    }\n",
    "        "
   ]
  },
  {
   "cell_type": "code",
   "execution_count": 29,
   "metadata": {},
   "outputs": [],
   "source": [
    "def similar_mapping(primary_color_info, secondary_emotion, df):\n",
    "    # secondary_ranked_value = df[df['감정 어휘'] == secondary_emotion].sort_values(by='평가 순위').iloc[0].to_dict()\n",
    "    secondary_ranked_df = df[df['감정 어휘'] == secondary_emotion]\n",
    "    \n",
    "    similar_matches_1 = []\n",
    "    similar_matches_2 = []\n",
    "    similar_match_exact = []\n",
    "\n",
    "            \n",
    "    # similar_colors_1 체크\n",
    "    for similar_color in primary_color_info['similar_colors_1']:\n",
    "        matched = secondary_ranked_df[secondary_ranked_df['색상약호'] == similar_color]\n",
    "        if not matched.empty:\n",
    "            similar_matches_1.append(matched)\n",
    "\n",
    "    # similar_colors_2 체크\n",
    "    for similar_color in primary_color_info['similar_colors_2']:\n",
    "        matched = secondary_ranked_df[secondary_ranked_df['색상약호'] == similar_color]\n",
    "        if not matched.empty:\n",
    "            similar_matches_2.append(matched)\n",
    "            \n",
    "    # same_color (동일색) 체크\n",
    "    same_color = primary_color_info['center_color']  # 단일 값 리스트 #주색은 미리 딕셔너리로 보관됨. 그대로 가져옴.\n",
    "    matched_exact = secondary_ranked_df[secondary_ranked_df['색상약호'] == same_color]\n",
    "    if not matched_exact.empty:\n",
    "        similar_match_exact.append(matched_exact)\n",
    "    \n",
    "    # 유사색상군1과 유사색상군2 중 하나라도 일치하는 경우.\n",
    "    if similar_matches_1 or similar_matches_2: \n",
    "        if similar_matches_1: # 대비색상군1을 우선 선정.\n",
    "            similar_matches_1_df = pd.concat(similar_matches_1).to_dict(orient='records')\n",
    "            # print(similar_matches_1_df)\n",
    "            return {\"primary_color\" : primary_color_info['center_color'],\n",
    "                    \"secondary_color\" : min(similar_matches_1_df, key=lambda x: x['평가 순위'])}\n",
    "        else: #대비색상군1이 없고, 대비색상군2가 있는 경우\n",
    "            similar_matches_2_df = pd.concat(similar_matches_2).to_dict(orient='records')\n",
    "            # print(similar_matches_2_df)\n",
    "            return {\"primary_color\" : primary_color_info['center_color'],\n",
    "                    \"secondary_color\" :min(similar_matches_2_df, key=lambda x: x['평가 순위'])}\n",
    "            \n",
    "    # 동일색이 있는경우\n",
    "    if similar_match_exact:\n",
    "        similar_dicts = similar_match_exact[0].to_dict(orient='records')\n",
    "        return {\"primary_color\" : primary_color_info['center_color'],\n",
    "                \"secondary_color\" : min(similar_dicts, key=lambda x: x['평가 순위'])} # '평가 순위'가 가장 높은 값 (숫자가 클수록 높은 순위라면 ↓)\n",
    "        \n",
    "    # 유사색상이 없는 경우\n",
    "    pure_secondary_colors = get_color(secondary_emotion, df)\n",
    "    return {\"primary_color\" : primary_color_info['center_color'], \"secondary_color\" :pure_secondary_colors}"
   ]
  },
  {
   "cell_type": "code",
   "execution_count": 30,
   "metadata": {},
   "outputs": [],
   "source": [
    "def contrast_mapping(primary_color_info, secondary_emotion, df):\n",
    "    secondary_ranked_df = df[df['감정 어휘'] == secondary_emotion]\n",
    "        \n",
    "    contrast_matches_1 = []\n",
    "    contrast_matches_2 = []\n",
    "    contrast_match_exact = []\n",
    "\n",
    "            \n",
    "    # contrast_colors_1 체크\n",
    "    for contrast_color in primary_color_info['contrast_colors_1']:\n",
    "        matched = secondary_ranked_df[secondary_ranked_df['색상약호'] == contrast_color]\n",
    "        if not matched.empty:\n",
    "            contrast_matches_1.append(matched)\n",
    "\n",
    "    # contrast_colors_2 체크\n",
    "    for contrast_color in primary_color_info['contrast_colors_2']:\n",
    "        matched = secondary_ranked_df[secondary_ranked_df['색상약호'] == contrast_color]\n",
    "        if not matched.empty:\n",
    "            contrast_matches_2.append(matched)\n",
    "            \n",
    "    # contrast_color (보색) 체크\n",
    "    contrast_color = primary_color_info['contrast_color'][0]  # 단일 값 리스트\n",
    "    matched_exact = secondary_ranked_df[secondary_ranked_df['색상약호'] == contrast_color]\n",
    "    if not matched_exact.empty:\n",
    "        contrast_match_exact.append(matched_exact)\n",
    "    \n",
    "    #보색이 정확히 일치하는 경우\n",
    "    if contrast_match_exact:\n",
    "        contrast_dicts = contrast_match_exact[0].to_dict(orient='records')\n",
    "        return {\"primary_color\" : primary_color_info['center_color'],\n",
    "                \"secondary_color\" : min(contrast_dicts, key=lambda x: x['평가 순위'])} # '평가 순위'가 가장 높은 값 (숫자가 클수록 높은 순위라면 ↓)\n",
    "    \n",
    "    # 대비색상군1과 대비색상군2 중 하나라도 일치하는 경우.\n",
    "    if contrast_matches_1 or contrast_matches_2: \n",
    "        if contrast_matches_1: # 대비색상군1을 우선 선정.\n",
    "            contrast_matches_1_df = pd.concat(contrast_matches_1).to_dict(orient='records')\n",
    "            # print(contrast_matches_1_df)\n",
    "            return {\"primary_color\" : primary_color_info['center_color'],\n",
    "                    \"secondary_color\" : min(contrast_matches_1_df, key=lambda x: x['평가 순위'])}\n",
    "        else: #대비색상군1이 없고, 대비색상군2가 있는 경우\n",
    "            contrast_matches_2_df = pd.concat(contrast_matches_2).to_dict(orient='records')\n",
    "            # print(contrast_matches_2_df)\n",
    "            return {\"primary_color\" : primary_color_info['center_color'],\n",
    "                    \"secondary_color\" :min(contrast_matches_2_df, key=lambda x: x['평가 순위'])}\n",
    "    # 대비색상이 없는 경우\n",
    "    pure_secondary_colors = get_color(secondary_emotion, df)\n",
    "    return {\"primary_color\" : primary_color_info['center_color'], \"secondary_color\" :pure_secondary_colors}  # '평가 순위'가 가장 높은 값 (숫자가 클수록 높은 순위라면 ↓)"
   ]
  },
  {
   "cell_type": "code",
   "execution_count": 31,
   "metadata": {},
   "outputs": [],
   "source": [
    "def get_sencondary_color(primary_color_info, secondary_emotion, mode_colors, df):\n",
    "    # 유사색상 모드일 때\n",
    "    if mode_colors == \"유사색상\":\n",
    "        return similar_mapping(primary_color_info, secondary_emotion, df)\n",
    "    # 대비색상 모드일 때\n",
    "    elif mode_colors == \"대비색상\": \n",
    "        return contrast_mapping(primary_color_info, secondary_emotion, df)\n",
    "        \n",
    "    # 예외처리 : 대비색상, 대비색상군1, 대비색상군2가 전부 없는 경우"
   ]
  },
  {
   "cell_type": "code",
   "execution_count": 32,
   "metadata": {},
   "outputs": [],
   "source": [
    "# def define_colors(primary_emotion, secondary_emotion, df):\n",
    "#     mode_colors = categorize_emotion(primary_emotion, secondary_emotion)\n",
    "#     # top_ranked_value = df[df['감정 어휘'] == primary_emotion].sort_values(by='평가 순위').iloc[0].to_dict()\n",
    "#     # top_ranked_value = df[df['감정 어휘'] == primary_emotion].sort_values(by='평가 순위')\n",
    "#     # filtered = df[(df['감정 어휘'] == primary_emotion) & (df['평가 순위'] == 1)]\n",
    "    \n",
    "#     primary_color_data = get_color(primary_emotion, df) # 무작위로 하나 선택\n",
    "#     primary_color_info_test= get_primary_color(primary_color_data)\n",
    "#     return get_sencondary_color(primary_color_info_test, secondary_emotion, mode_colors, df)\n",
    "    "
   ]
  },
  {
   "cell_type": "code",
   "execution_count": 33,
   "metadata": {},
   "outputs": [],
   "source": [
    "# colors_similar = define_colors(top_emotions_similar[0],top_emotions_similar[1], df) # 주감정과 보조감정, KCoED 데이터셋\n",
    "# colors_similar"
   ]
  },
  {
   "cell_type": "code",
   "execution_count": 34,
   "metadata": {},
   "outputs": [],
   "source": [
    "# colors_similar_contrast = define_colors(top_emotions_similaremotion_contrastcolor[0],top_emotions_similaremotion_contrastcolor[1], df) # 주감정과 보조감정, KCoED 데이터셋\n",
    "# colors_similar_contrast"
   ]
  },
  {
   "cell_type": "markdown",
   "metadata": {},
   "source": [
    "### 주색/보조색을 가지고 컬러 변환"
   ]
  },
  {
   "cell_type": "code",
   "execution_count": 35,
   "metadata": {},
   "outputs": [],
   "source": [
    "def rgb_to_hsb(rgb_dict):\n",
    "    # 문자열 RGB 값을 정수로 변환\n",
    "    r = int(rgb_dict['R']) / 255.0\n",
    "    g = int(rgb_dict['G']) / 255.0\n",
    "    b = int(rgb_dict['B']) / 255.0\n",
    "\n",
    "    # RGB → HSB (HSV)\n",
    "    h, s, v = colorsys.rgb_to_hsv(r, g, b)\n",
    "\n",
    "    # HSB 값 반환 (0~360, 0~100, 0~100)\n",
    "    return {\n",
    "        'H': round(h * 360), #반올림\n",
    "        'S': round(s * 100),\n",
    "        'B': round(v * 100),\n",
    "        'color info' : rgb_dict\n",
    "    }"
   ]
  },
  {
   "cell_type": "code",
   "execution_count": 36,
   "metadata": {},
   "outputs": [],
   "source": [
    "# processed_primary_color1 = rgb_to_hsb(colors_similar['primary_color'])\n",
    "# processed_secondary_color1 = rgb_to_hsb(colors_similar['secondary_color'])"
   ]
  },
  {
   "cell_type": "code",
   "execution_count": 37,
   "metadata": {},
   "outputs": [],
   "source": [
    "# processed_primary_color2 = rgb_to_hsb(colors_contrast['primary_color'])\n",
    "# processed_secondary_color2 = rgb_to_hsb(colors_contrast['secondary_color'])"
   ]
  },
  {
   "cell_type": "code",
   "execution_count": 38,
   "metadata": {},
   "outputs": [],
   "source": [
    "# processed_primary_color3 = rgb_to_hsb(colors_similar_contrast['primary_color'])\n",
    "# processed_secondary_color3 = rgb_to_hsb(colors_similar_contrast['secondary_color'])"
   ]
  },
  {
   "cell_type": "markdown",
   "metadata": {},
   "source": [
    "#### 형용사 정리 (버그수정)"
   ]
  },
  {
   "cell_type": "markdown",
   "metadata": {},
   "source": [
    "#### 추출한 감정형용사의 형용사군 검색"
   ]
  },
  {
   "cell_type": "code",
   "execution_count": 39,
   "metadata": {},
   "outputs": [],
   "source": [
    "def find_adjective_group(adjective, grouped_dict):\n",
    "    \"\"\"\n",
    "    주어진 형용사가 속한 형용사군(key)을 반환.\n",
    "    \"\"\"\n",
    "    for group, adjectives in grouped_dict.items():\n",
    "        if adjective in adjectives:\n",
    "            return group\n",
    "    return None  # 못 찾았을 경우"
   ]
  },
  {
   "cell_type": "code",
   "execution_count": 40,
   "metadata": {},
   "outputs": [
    {
     "name": "stdout",
     "output_type": "stream",
     "text": [
      "형용사 '사랑스러운'는 '귀여운' 형용사군에 속합니다.\n"
     ]
    }
   ],
   "source": [
    "group_name = find_adjective_group(result_IRI, grouped_adjectives)\n",
    "\n",
    "if group_name:\n",
    "    print(f\"형용사 '{result_IRI}'는 '{group_name}' 형용사군에 속합니다.\")\n",
    "else:\n",
    "    print(f\"형용사 '{result_IRI}'는 어떤 형용사군에도 속하지 않습니다.\")"
   ]
  },
  {
   "cell_type": "code",
   "execution_count": 41,
   "metadata": {},
   "outputs": [
    {
     "name": "stdout",
     "output_type": "stream",
     "text": [
      "선택된 배색그룹id: 3\n"
     ]
    }
   ],
   "source": [
    "IRI_colors_df = df_IRI_colors[df_IRI_colors['형용사군'] == group_name]\n",
    "# '배색그룹id' 컬럼에서 고유값만 추출\n",
    "palette_ids = IRI_colors_df['배색그룹id'].dropna().unique()\n",
    "\n",
    "# 랜덤 선택\n",
    "if len(palette_ids) > 0:\n",
    "    chosen_palette_id = random.choice(palette_ids)\n",
    "    print(f\"선택된 배색그룹id: {chosen_palette_id}\")\n",
    "else:\n",
    "    chosen_palette_id = None\n",
    "    print(\"배색그룹id가 존재하지 않습니다.\")\n",
    "    \n",
    "# chosen_palette_id에 해당하는 행만 추출\n",
    "palette_df = IRI_colors_df[IRI_colors_df['배색그룹id'] == chosen_palette_id]"
   ]
  },
  {
   "cell_type": "code",
   "execution_count": 42,
   "metadata": {},
   "outputs": [],
   "source": [
    "def choose_color_pair(palette_df):\n",
    "    # 사용할 쌍 정의 (우선순위 순서)\n",
    "    priority_pairs = [(1, 2), (2, 3), (2, 1), (3, 2)]\n",
    "    fallback_pairs = [(1, 3), (3, 1)]\n",
    "\n",
    "    # 현재 데이터프레임에 존재하는 단일색상 id 추출\n",
    "    available_ids = set(palette_df['단일색상 id'].dropna().astype(int).unique())\n",
    "\n",
    "    # 가능한 쌍 필터링\n",
    "    valid_priority_pairs = [pair for pair in priority_pairs if pair[0] in available_ids and pair[1] in available_ids]\n",
    "    valid_fallback_pairs = [pair for pair in fallback_pairs if pair[0] in available_ids and pair[1] in available_ids]\n",
    "\n",
    "    # 랜덤 선택\n",
    "    if valid_priority_pairs:\n",
    "        return random.choice(valid_priority_pairs)\n",
    "    elif valid_fallback_pairs:\n",
    "        return random.choice(valid_fallback_pairs)\n",
    "    else:\n",
    "        return None"
   ]
  },
  {
   "cell_type": "code",
   "execution_count": 43,
   "metadata": {},
   "outputs": [],
   "source": [
    "def get_palette_dicts(palette_df):\n",
    "    \"\"\"\n",
    "    palette_result 튜플 (id1, id2)에 대해 해당하는 단일색상id 행을\n",
    "    각각 dictionary로 반환\n",
    "    \"\"\"\n",
    "    palette_result = choose_color_pair(palette_df)\n",
    "    id1, id2 = palette_result\n",
    "\n",
    "    # '단일색상 id' 컬럼이 float일 가능성 있으므로 int로 캐스팅\n",
    "    df_cast = palette_df.copy()\n",
    "    df_cast['단일색상 id'] = df_cast['단일색상 id'].astype(int)\n",
    "\n",
    "    # 각 색상 id에 대응하는 행 추출 후 dict 변환\n",
    "    primary_row = df_cast[df_cast['단일색상 id'] == id1].iloc[0].to_dict()\n",
    "    secondary_row = df_cast[df_cast['단일색상 id'] == id2].iloc[0].to_dict()\n",
    "\n",
    "    return {'primary_palette' : primary_row, 'secondary_palette' : secondary_row}"
   ]
  },
  {
   "cell_type": "code",
   "execution_count": 44,
   "metadata": {},
   "outputs": [],
   "source": [
    "palette_result = get_palette_dicts(palette_df)"
   ]
  },
  {
   "cell_type": "code",
   "execution_count": 45,
   "metadata": {},
   "outputs": [],
   "source": [
    "def update_saturation_brightness(processed_primary_color, processed_secondary_color, palette_result):\n",
    "    \"\"\"\n",
    "    processed_primary_color와 processed_secondary_color의 S, B 값을\n",
    "    palette_result의 S, B 값으로 업데이트합니다.\n",
    "    \"\"\"\n",
    "    processed_primary_color['S'] = palette_result['primary_palette']['Saturation']\n",
    "    processed_primary_color['B'] = palette_result['primary_palette']['Brightness']\n",
    "    processed_secondary_color['S'] = palette_result['secondary_palette']['Saturation']\n",
    "    processed_secondary_color['B'] = palette_result['secondary_palette']['Brightness']\n",
    "\n",
    "    return {'updated_primary_color': processed_primary_color,\n",
    "            'updated_secondary_color': processed_secondary_color\n",
    "            }"
   ]
  },
  {
   "cell_type": "code",
   "execution_count": 46,
   "metadata": {},
   "outputs": [],
   "source": [
    "# updated_colors1 = update_saturation_brightness(processed_primary_color1, processed_secondary_color1, palette_result)\n",
    "# updated_colors2 = update_saturation_brightness(processed_primary_color2, processed_secondary_color2, palette_result)\n",
    "# updated_colors3 = update_saturation_brightness(processed_primary_color3, processed_secondary_color3, palette_result)"
   ]
  },
  {
   "cell_type": "markdown",
   "metadata": {},
   "source": [
    "#### 감정 어휘 정리 (진행예정)"
   ]
  },
  {
   "cell_type": "code",
   "execution_count": 150,
   "metadata": {},
   "outputs": [],
   "source": [
    "def filter_emotion_text(emotion_name):\n",
    "    if emotion_name == '기대감' :\n",
    "        return '기대하다'\n",
    "    else : \n",
    "        return emotion_name"
   ]
  },
  {
   "cell_type": "code",
   "execution_count": 151,
   "metadata": {},
   "outputs": [],
   "source": [
    "\n",
    "def define_colors(result_emotions, result_IRI, df, IRI_colors_df):\n",
    "    top_two_emotions = filter_emotions(result_emotions, result_IRI)\n",
    "    mode1 = categorize_emotion(top_two_emotions[0],top_two_emotions[1])\n",
    "    filtered_top_two_emotion = filter_emotion_text(top_two_emotions[0]) # 임시적용\n",
    "    primary_color = get_color(filtered_top_two_emotion, df) # 무작위로 하나 선택\n",
    "    primary_color_info_data = get_color_info(primary_color)\n",
    "    \n",
    "    selected_colors = get_sencondary_color(primary_color_info_data, top_two_emotions[1], mode1, df)\n",
    "    processed_primary_color = rgb_to_hsb(selected_colors['primary_color'])\n",
    "    processed_secondary_color = rgb_to_hsb(selected_colors['secondary_color'])\n",
    "    \n",
    "    group_name = find_adjective_group(result_IRI, grouped_adjectives)\n",
    "    if group_name:\n",
    "        print(f\"형용사 '{result_IRI}'는 '{group_name}' 형용사군에 속합니다.\")\n",
    "    else:\n",
    "        print(f\"형용사 '{result_IRI}'는 어떤 형용사군에도 속하지 않습니다.\")\n",
    "        \n",
    "    IRI_colors_df = df_IRI_colors[df_IRI_colors['형용사군'] == group_name]\n",
    "    # '배색그룹id' 컬럼에서 고유값만 추출\n",
    "    palette_ids = IRI_colors_df['배색그룹id'].dropna().unique()\n",
    "\n",
    "    # 랜덤 선택\n",
    "    if len(palette_ids) > 0:\n",
    "        chosen_palette_id = random.choice(palette_ids)\n",
    "        print(f\"선택된 배색그룹id: {chosen_palette_id}\")\n",
    "    else:\n",
    "        chosen_palette_id = None\n",
    "        print(\"배색그룹id가 존재하지 않습니다.\")\n",
    "    \n",
    "    # chosen_palette_id에 해당하는 행만 추출\n",
    "    palette_df = IRI_colors_df[IRI_colors_df['배색그룹id'] == chosen_palette_id]    \n",
    "    palette_result = get_palette_dicts(palette_df)\n",
    "    updated_colors = update_saturation_brightness(processed_primary_color, processed_secondary_color, palette_result)\n",
    "    updated_colors['primary_emotion'] = top_two_emotions[0]\n",
    "    updated_colors['secondary_emotion'] = top_two_emotions[1]\n",
    "    return updated_colors"
   ]
  },
  {
   "cell_type": "code",
   "execution_count": 152,
   "metadata": {},
   "outputs": [
    {
     "name": "stdout",
     "output_type": "stream",
     "text": [
      "Primary: negative, Secondary: positive, Mode : 유사색상\n",
      "형용사 '사랑스러운'는 '귀여운' 형용사군에 속합니다.\n",
      "선택된 배색그룹id: 2\n"
     ]
    },
    {
     "data": {
      "text/plain": [
       "{'updated_primary_color': {'H': 214,\n",
       "  'S': '58',\n",
       "  'B': '96',\n",
       "  'color info': {'감정id': '24',\n",
       "   '감정 어휘': '슬픔',\n",
       "   '평가 순위': '1',\n",
       "   'R': '76',\n",
       "   'G': '87',\n",
       "   'B': '101',\n",
       "   '샘플': nan,\n",
       "   '출처/참고문헌': '김애경,and 오윤경. \"긍정 및 부정 정서어휘에 대한 색 반응 연구.\" 조형미디어학 19.1 (2016): 59-66.',\n",
       "   '출처/참고문헌2': 'https://gist.github.com/hidex7777/5268753',\n",
       "   '색상': '남색',\n",
       "   '색상약호': 'PB',\n",
       "   '색상 온도': 'Cold',\n",
       "   nan: nan}},\n",
       " 'updated_secondary_color': {'H': 51,\n",
       "  'S': '49',\n",
       "  'B': '98',\n",
       "  'color info': {'감정id': '17',\n",
       "   '감정 어휘': '기쁨',\n",
       "   '평가 순위': '1',\n",
       "   'R': '238',\n",
       "   'G': '201',\n",
       "   'B': '0',\n",
       "   '샘플': nan,\n",
       "   '출처/참고문헌': '김애경,and 오윤경. \"긍정 및 부정 정서어휘에 대한 색 반응 연구.\" 조형미디어학 19.1 (2016): 59-66.',\n",
       "   '출처/참고문헌2': 'https://gist.github.com/hidex7777/5268700',\n",
       "   '색상': '노랑',\n",
       "   '색상약호': 'Y',\n",
       "   '색상 온도': 'Warm',\n",
       "   nan: nan}},\n",
       " 'primary_emotion': '슬픔',\n",
       " 'secondary_emotion': '기쁨'}"
      ]
     },
     "execution_count": 152,
     "metadata": {},
     "output_type": "execute_result"
    }
   ],
   "source": [
    "colors_contrast = define_colors(result_emotions_contrast, result_IRI, df, IRI_colors_df) # 주감정과 보조감정, KCoED 데이터셋\n",
    "colors_contrast\n"
   ]
  },
  {
   "cell_type": "code",
   "execution_count": 49,
   "metadata": {},
   "outputs": [],
   "source": [
    "def hsb_to_rgb_tuple(hsb):\n",
    "    h = int(hsb['H']) / 360\n",
    "    s = int(hsb['S']) / 100\n",
    "    v = int(hsb['B']) / 100\n",
    "    r, g, b = colorsys.hsv_to_rgb(h, s, v)\n",
    "    return (r, g, b)  # matplotlib uses 0-1 float RGB"
   ]
  },
  {
   "cell_type": "code",
   "execution_count": 50,
   "metadata": {},
   "outputs": [],
   "source": [
    "def emotion_to_colors(top_emotions, color_results):\n",
    "    plt.rcParams['font.family'] = 'NanumGothic'\n",
    "    plt.rcParams['axes.unicode_minus'] = False\n",
    "\n",
    "    # RGB 변환\n",
    "    rgb1 = hsb_to_rgb_tuple(color_results['updated_primary_color'])\n",
    "    rgb2 = hsb_to_rgb_tuple(color_results['updated_secondary_color'])\n",
    "\n",
    "    # Figure + GridSpec (7:3 비율)\n",
    "    fig = plt.figure(figsize=(7, 2))\n",
    "    gs = gridspec.GridSpec(1, 2, width_ratios=[7, 3])\n",
    "\n",
    "    # Primary Color 영역 (7)\n",
    "    ax1 = fig.add_subplot(gs[0])\n",
    "    ax1.imshow([[rgb1]], aspect='auto')\n",
    "    ax1.set_title(\"Primary Color\", fontsize=10)\n",
    "    ax1.axis('off')\n",
    "\n",
    "    # Secondary Color 영역 (3)\n",
    "    ax2 = fig.add_subplot(gs[1])\n",
    "    ax2.imshow([[rgb2]], aspect='auto')\n",
    "    ax2.set_title(\"Secondary Color\", fontsize=10)\n",
    "    ax2.axis('off')\n",
    "\n",
    "    # 전체 제목\n",
    "    # plt.suptitle(f\"{top_emotions[2]}, {top_emotions[0]}과(와) {top_emotions[1]}\", fontsize=14)\n",
    "    # 그래프 아래 중앙에 제목 넣기\n",
    "    fig.text(\n",
    "        0.5, -0.05,  # x, y (0~1 기준, 아래로 -0.05)\n",
    "        f\"{top_emotions[2]}, {top_emotions[0]}과(와) {top_emotions[1]}\",\n",
    "        ha='center', va='top',\n",
    "        fontsize=14\n",
    ")\n",
    "\n",
    "    plt.subplots_adjust(wspace=0, hspace=0)\n",
    "    plt.show()\n",
    "    \n",
    "    print(top_emotions, color_results)"
   ]
  },
  {
   "cell_type": "code",
   "execution_count": 51,
   "metadata": {},
   "outputs": [
    {
     "data": {
      "image/png": "[encoded data removed]",
      "text/plain": [
       "<Figure size 700x200 with 2 Axes>"
      ]
     },
     "metadata": {},
     "output_type": "display_data"
    },
    {
     "name": "stdout",
     "output_type": "stream",
     "text": [
      "['슬픔', '기쁨', '사랑스러운'] {'updated_primary_color': {'H': 214, 'S': '80', 'B': '78', 'color info': {'감정id': '24', '감정 어휘': '슬픔', '평가 순위': '1', 'R': '76', 'G': '87', 'B': '101', '샘플': nan, '출처/참고문헌': '김애경,and 오윤경. \"긍정 및 부정 정서어휘에 대한 색 반응 연구.\" 조형미디어학 19.1 (2016): 59-66.', '출처/참고문헌2': 'https://gist.github.com/hidex7777/5268753', '색상': '남색', '색상약호': 'PB', '색상 온도': 'Cold', nan: nan}}, 'updated_secondary_color': {'H': 51, 'S': '89', 'B': '93', 'color info': {'감정id': '17', '감정 어휘': '기쁨', '평가 순위': '1', 'R': '238', 'G': '201', 'B': '0', '샘플': nan, '출처/참고문헌': '김애경,and 오윤경. \"긍정 및 부정 정서어휘에 대한 색 반응 연구.\" 조형미디어학 19.1 (2016): 59-66.', '출처/참고문헌2': 'https://gist.github.com/hidex7777/5268700', '색상': '노랑', '색상약호': 'Y', '색상 온도': 'Warm', nan: nan}}}\n"
     ]
    }
   ],
   "source": [
    "# emotion_to_colors(top_emotions_similar, updated_colors1)\n",
    "# emotion_to_colors(top_emotions_contrast, updated_colors2)\n",
    "# emotion_to_colors(top_emotions_similaremotion_contrastcolor, updated_colors3)\n",
    "emotion_to_colors(top_emotions_contrast, colors_contrast)"
   ]
  },
  {
   "cell_type": "markdown",
   "metadata": {},
   "source": [
    "## KPoEM 감정분류 모델 로드"
   ]
  },
  {
   "cell_type": "code",
   "execution_count": 52,
   "metadata": {},
   "outputs": [
    {
     "name": "stderr",
     "output_type": "stream",
     "text": [
      "huggingface/tokenizers: The current process just got forked, after parallelism has already been used. Disabling parallelism to avoid deadlocks...\n",
      "To disable this warning, you can either:\n",
      "\t- Avoid using `tokenizers` before the fork if possible\n",
      "\t- Explicitly set the environment variable TOKENIZERS_PARALLELISM=(true | false)\n"
     ]
    },
    {
     "name": "stdout",
     "output_type": "stream",
     "text": [
      "Defaulting to user installation because normal site-packages is not writeable\n",
      "\u001b[33mDEPRECATION: Loading egg at /usr/local/lib/python3.12/dist-packages/bitsandbytes-0.45.4.dev0-py3.12-linux-x86_64.egg is deprecated. pip 25.1 will enforce this behaviour change. A possible replacement is to use pip for package installation. Discussion can be found at https://github.com/pypa/pip/issues/12330\u001b[0m\u001b[33m\n",
      "\u001b[0m\u001b[33mDEPRECATION: Loading egg at /usr/local/lib/python3.12/dist-packages/lightning_utilities-0.12.0.dev0-py3.12.egg is deprecated. pip 25.1 will enforce this behaviour change. A possible replacement is to use pip for package installation. Discussion can be found at https://github.com/pypa/pip/issues/12330\u001b[0m\u001b[33m\n",
      "\u001b[0m\u001b[33mDEPRECATION: Loading egg at /usr/local/lib/python3.12/dist-packages/looseversion-1.3.0-py3.12.egg is deprecated. pip 25.1 will enforce this behaviour change. A possible replacement is to use pip for package installation. Discussion can be found at https://github.com/pypa/pip/issues/12330\u001b[0m\u001b[33m\n",
      "\u001b[0m\u001b[33mDEPRECATION: Loading egg at /usr/local/lib/python3.12/dist-packages/lightning_thunder-0.2.0.dev0-py3.12.egg is deprecated. pip 25.1 will enforce this behaviour change. A possible replacement is to use pip for package installation. Discussion can be found at https://github.com/pypa/pip/issues/12330\u001b[0m\u001b[33m\n",
      "\u001b[0m\u001b[33mDEPRECATION: Loading egg at /usr/local/lib/python3.12/dist-packages/nvfuser-0.2.23a0+6627725-py3.12-linux-x86_64.egg is deprecated. pip 25.1 will enforce this behaviour change. A possible replacement is to use pip for package installation. Discussion can be found at https://github.com/pypa/pip/issues/12330\u001b[0m\u001b[33m\n",
      "\u001b[0mLooking in indexes: https://pypi.org/simple, https://pypi.ngc.nvidia.com\n",
      "Requirement already satisfied: langchain in /home/work/.local/lib/python3.12/site-packages (0.3.27)\n",
      "Requirement already satisfied: langchain-community in /home/work/.local/lib/python3.12/site-packages (0.3.27)\n",
      "Requirement already satisfied: langchain-core in /home/work/.local/lib/python3.12/site-packages (0.3.74)\n",
      "Requirement already satisfied: langchain-text-splitters<1.0.0,>=0.3.9 in /home/work/.local/lib/python3.12/site-packages (from langchain) (0.3.9)\n",
      "Requirement already satisfied: langsmith>=0.1.17 in /home/work/.local/lib/python3.12/site-packages (from langchain) (0.4.13)\n",
      "Requirement already satisfied: pydantic<3.0.0,>=2.7.4 in /usr/local/lib/python3.12/dist-packages (from langchain) (2.10.5)\n",
      "Requirement already satisfied: SQLAlchemy<3,>=1.4 in /usr/local/lib/python3.12/dist-packages (from langchain) (1.4.36)\n",
      "Requirement already satisfied: requests<3,>=2 in /usr/local/lib/python3.12/dist-packages (from langchain) (2.32.3)\n",
      "Requirement already satisfied: PyYAML>=5.3 in /usr/local/lib/python3.12/dist-packages (from langchain) (6.0.2)\n",
      "Requirement already satisfied: aiohttp<4.0.0,>=3.8.3 in /usr/local/lib/python3.12/dist-packages (from langchain-community) (3.11.10)\n",
      "Requirement already satisfied: tenacity!=8.4.0,<10,>=8.1.0 in /home/work/.local/lib/python3.12/site-packages (from langchain-community) (9.1.2)\n",
      "Requirement already satisfied: dataclasses-json<0.7,>=0.5.7 in /home/work/.local/lib/python3.12/site-packages (from langchain-community) (0.6.7)\n",
      "Requirement already satisfied: pydantic-settings<3.0.0,>=2.4.0 in /home/work/.local/lib/python3.12/site-packages (from langchain-community) (2.10.1)\n",
      "Requirement already satisfied: httpx-sse<1.0.0,>=0.4.0 in /home/work/.local/lib/python3.12/site-packages (from langchain-community) (0.4.1)\n",
      "Requirement already satisfied: numpy>=1.26.2 in /usr/local/lib/python3.12/dist-packages (from langchain-community) (1.26.4)\n",
      "Requirement already satisfied: jsonpatch<2.0,>=1.33 in /home/work/.local/lib/python3.12/site-packages (from langchain-core) (1.33)\n",
      "Requirement already satisfied: typing-extensions>=4.7 in /usr/local/lib/python3.12/dist-packages (from langchain-core) (4.12.2)\n",
      "Requirement already satisfied: packaging>=23.2 in /usr/local/lib/python3.12/dist-packages (from langchain-core) (23.2)\n",
      "Requirement already satisfied: aiohappyeyeballs>=2.3.0 in /usr/local/lib/python3.12/dist-packages (from aiohttp<4.0.0,>=3.8.3->langchain-community) (2.4.4)\n",
      "Requirement already satisfied: aiosignal>=1.1.2 in /usr/local/lib/python3.12/dist-packages (from aiohttp<4.0.0,>=3.8.3->langchain-community) (1.3.2)\n",
      "Requirement already satisfied: attrs>=17.3.0 in /usr/local/lib/python3.12/dist-packages (from aiohttp<4.0.0,>=3.8.3->langchain-community) (24.2.0)\n",
      "Requirement already satisfied: frozenlist>=1.1.1 in /usr/local/lib/python3.12/dist-packages (from aiohttp<4.0.0,>=3.8.3->langchain-community) (1.5.0)\n",
      "Requirement already satisfied: multidict<7.0,>=4.5 in /usr/local/lib/python3.12/dist-packages (from aiohttp<4.0.0,>=3.8.3->langchain-community) (6.1.0)\n",
      "Requirement already satisfied: propcache>=0.2.0 in /usr/local/lib/python3.12/dist-packages (from aiohttp<4.0.0,>=3.8.3->langchain-community) (0.2.1)\n",
      "Requirement already satisfied: yarl<2.0,>=1.17.0 in /usr/local/lib/python3.12/dist-packages (from aiohttp<4.0.0,>=3.8.3->langchain-community) (1.18.3)\n",
      "Requirement already satisfied: marshmallow<4.0.0,>=3.18.0 in /home/work/.local/lib/python3.12/site-packages (from dataclasses-json<0.7,>=0.5.7->langchain-community) (3.26.1)\n",
      "Requirement already satisfied: typing-inspect<1,>=0.4.0 in /home/work/.local/lib/python3.12/site-packages (from dataclasses-json<0.7,>=0.5.7->langchain-community) (0.9.0)\n",
      "Requirement already satisfied: jsonpointer>=1.9 in /usr/local/lib/python3.12/dist-packages (from jsonpatch<2.0,>=1.33->langchain-core) (2.3)\n",
      "Requirement already satisfied: httpx<1,>=0.23.0 in /usr/local/lib/python3.12/dist-packages (from langsmith>=0.1.17->langchain) (0.28.1)\n",
      "Requirement already satisfied: orjson>=3.9.14 in /usr/local/lib/python3.12/dist-packages (from langsmith>=0.1.17->langchain) (3.10.15)\n",
      "Requirement already satisfied: requests-toolbelt>=1.0.0 in /home/work/.local/lib/python3.12/site-packages (from langsmith>=0.1.17->langchain) (1.0.0)\n",
      "Requirement already satisfied: zstandard>=0.23.0 in /home/work/.local/lib/python3.12/site-packages (from langsmith>=0.1.17->langchain) (0.23.0)\n",
      "Requirement already satisfied: annotated-types>=0.6.0 in /usr/local/lib/python3.12/dist-packages (from pydantic<3.0.0,>=2.7.4->langchain) (0.7.0)\n",
      "Requirement already satisfied: pydantic-core==2.27.2 in /usr/local/lib/python3.12/dist-packages (from pydantic<3.0.0,>=2.7.4->langchain) (2.27.2)\n",
      "Requirement already satisfied: python-dotenv>=0.21.0 in /home/work/.local/lib/python3.12/site-packages (from pydantic-settings<3.0.0,>=2.4.0->langchain-community) (1.1.1)\n",
      "Requirement already satisfied: typing-inspection>=0.4.0 in /home/work/.local/lib/python3.12/site-packages (from pydantic-settings<3.0.0,>=2.4.0->langchain-community) (0.4.1)\n",
      "Requirement already satisfied: charset-normalizer<4,>=2 in /usr/local/lib/python3.12/dist-packages (from requests<3,>=2->langchain) (3.4.1)\n",
      "Requirement already satisfied: idna<4,>=2.5 in /usr/local/lib/python3.12/dist-packages (from requests<3,>=2->langchain) (3.10)\n",
      "Requirement already satisfied: urllib3<3,>=1.21.1 in /usr/local/lib/python3.12/dist-packages (from requests<3,>=2->langchain) (1.26.20)\n",
      "Requirement already satisfied: certifi>=2017.4.17 in /usr/local/lib/python3.12/dist-packages (from requests<3,>=2->langchain) (2024.12.14)\n",
      "Requirement already satisfied: greenlet!=0.4.17 in /usr/local/lib/python3.12/dist-packages (from SQLAlchemy<3,>=1.4->langchain) (3.1.1)\n",
      "Requirement already satisfied: anyio in /usr/local/lib/python3.12/dist-packages (from httpx<1,>=0.23.0->langsmith>=0.1.17->langchain) (3.7.1)\n",
      "Requirement already satisfied: httpcore==1.* in /usr/local/lib/python3.12/dist-packages (from httpx<1,>=0.23.0->langsmith>=0.1.17->langchain) (1.0.7)\n",
      "Requirement already satisfied: h11<0.15,>=0.13 in /usr/local/lib/python3.12/dist-packages (from httpcore==1.*->httpx<1,>=0.23.0->langsmith>=0.1.17->langchain) (0.14.0)\n",
      "Requirement already satisfied: mypy-extensions>=0.3.0 in /usr/local/lib/python3.12/dist-packages (from typing-inspect<1,>=0.4.0->dataclasses-json<0.7,>=0.5.7->langchain-community) (0.4.3)\n",
      "Requirement already satisfied: sniffio>=1.1 in /usr/local/lib/python3.12/dist-packages (from anyio->httpx<1,>=0.23.0->langsmith>=0.1.17->langchain) (1.2.0)\n"
     ]
    },
    {
     "name": "stderr",
     "output_type": "stream",
     "text": [
      "huggingface/tokenizers: The current process just got forked, after parallelism has already been used. Disabling parallelism to avoid deadlocks...\n",
      "To disable this warning, you can either:\n",
      "\t- Avoid using `tokenizers` before the fork if possible\n",
      "\t- Explicitly set the environment variable TOKENIZERS_PARALLELISM=(true | false)\n"
     ]
    },
    {
     "name": "stdout",
     "output_type": "stream",
     "text": [
      "Defaulting to user installation because normal site-packages is not writeable\n",
      "\u001b[33mDEPRECATION: Loading egg at /usr/local/lib/python3.12/dist-packages/bitsandbytes-0.45.4.dev0-py3.12-linux-x86_64.egg is deprecated. pip 25.1 will enforce this behaviour change. A possible replacement is to use pip for package installation. Discussion can be found at https://github.com/pypa/pip/issues/12330\u001b[0m\u001b[33m\n",
      "\u001b[0m\u001b[33mDEPRECATION: Loading egg at /usr/local/lib/python3.12/dist-packages/lightning_utilities-0.12.0.dev0-py3.12.egg is deprecated. pip 25.1 will enforce this behaviour change. A possible replacement is to use pip for package installation. Discussion can be found at https://github.com/pypa/pip/issues/12330\u001b[0m\u001b[33m\n",
      "\u001b[0m\u001b[33mDEPRECATION: Loading egg at /usr/local/lib/python3.12/dist-packages/looseversion-1.3.0-py3.12.egg is deprecated. pip 25.1 will enforce this behaviour change. A possible replacement is to use pip for package installation. Discussion can be found at https://github.com/pypa/pip/issues/12330\u001b[0m\u001b[33m\n",
      "\u001b[0m\u001b[33mDEPRECATION: Loading egg at /usr/local/lib/python3.12/dist-packages/lightning_thunder-0.2.0.dev0-py3.12.egg is deprecated. pip 25.1 will enforce this behaviour change. A possible replacement is to use pip for package installation. Discussion can be found at https://github.com/pypa/pip/issues/12330\u001b[0m\u001b[33m\n",
      "\u001b[0m\u001b[33mDEPRECATION: Loading egg at /usr/local/lib/python3.12/dist-packages/nvfuser-0.2.23a0+6627725-py3.12-linux-x86_64.egg is deprecated. pip 25.1 will enforce this behaviour change. A possible replacement is to use pip for package installation. Discussion can be found at https://github.com/pypa/pip/issues/12330\u001b[0m\u001b[33m\n",
      "\u001b[0mLooking in indexes: https://pypi.org/simple, https://pypi.ngc.nvidia.com\n",
      "Requirement already satisfied: faiss-cpu in /home/work/.local/lib/python3.12/site-packages (1.11.0.post1)\n",
      "Requirement already satisfied: numpy<3.0,>=1.25.0 in /usr/local/lib/python3.12/dist-packages (from faiss-cpu) (1.26.4)\n",
      "Requirement already satisfied: packaging in /usr/local/lib/python3.12/dist-packages (from faiss-cpu) (23.2)\n"
     ]
    }
   ],
   "source": [
    "!pip install langchain langchain-community langchain-core\n",
    "!pip install faiss-cpu"
   ]
  },
  {
   "cell_type": "code",
   "execution_count": 53,
   "metadata": {},
   "outputs": [],
   "source": [
    "from langchain_core.runnables import RunnablePassthrough, RunnableLambda\n",
    "from transformers import pipeline, AutoTokenizer, AutoModelForSequenceClassification, get_linear_schedule_with_warmup\n",
    "import os\n",
    "from torch.utils.data import Dataset, DataLoader\n",
    "from datasets import load_dataset\n",
    "import pytorch_lightning as pl\n",
    "import torch\n",
    "torch.set_float32_matmul_precision('medium')\n",
    "import torch.nn as nn\n",
    "from transformers import ElectraModel, AutoTokenizer, AutoModel\n",
    "from sklearn.model_selection import train_test_split"
   ]
  },
  {
   "cell_type": "code",
   "execution_count": 54,
   "metadata": {},
   "outputs": [],
   "source": [
    "###########################\n",
    "# 토크나이저 로드\n",
    "###########################\n",
    "MODEL_NAME = \"beomi/KcELECTRA-base\"\n",
    "tokenizer = AutoTokenizer.from_pretrained(MODEL_NAME)"
   ]
  },
  {
   "cell_type": "code",
   "execution_count": 55,
   "metadata": {},
   "outputs": [],
   "source": [
    "THRESHOLD = 0.3"
   ]
  },
  {
   "cell_type": "code",
   "execution_count": 56,
   "metadata": {},
   "outputs": [],
   "source": [
    "# 2.1. 공통 전처리 함수 및 라벨 정의\n",
    "LABELS = ['불평/불만', '환영/호의', '감동/감탄', '지긋지긋', '고마움', '슬픔', '화남/분노', '존경', '기대감', '우쭐댐/무시함', '안타까움/실망', '비장함', '의심/불신', '뿌듯함', '편안/쾌적', '신기함/관심', '아껴주는', '부끄러움', '공포/무서움', '절망', '한심함', '역겨움/징그러움', '짜증', '어이없음', '없음', '패배/자기혐오', '귀찮음', '힘듦/지침', '즐거움/신남', '깨달음', '죄책감', '증오/혐오', '흐뭇함(귀여움/예쁨)', '당황/난처', '경악', '부담/안_내킴', '서러움', '재미없음', '불쌍함/연민', '놀람', '행복', '불안/걱정', '기쁨', '안심/신뢰']"
   ]
  },
  {
   "cell_type": "code",
   "execution_count": 57,
   "metadata": {},
   "outputs": [],
   "source": [
    "# 3.4. Pytorch Lightning 모델(BaseTagger) 정의\n",
    "class BaseTagger(pl.LightningModule):\n",
    "    def __init__(self, model_name=MODEL_NAME, lr=2e-5, weight_decay=0.01,\n",
    "                 n_training_steps=None, n_warmup_steps=None, dropout_rate=0.1):\n",
    "        super().__init__()\n",
    "        self.save_hyperparameters()\n",
    "        self.electra = AutoModel.from_pretrained(model_name)\n",
    "        self.classifier = nn.Sequential(\n",
    "            nn.Dropout(p=self.hparams.dropout_rate),\n",
    "            nn.Linear(self.electra.config.hidden_size, len(LABELS))\n",
    "        )\n",
    "        self.criterion = nn.BCELoss()\n",
    "\n",
    "    def forward(self, input_ids, attention_mask, labels=None):\n",
    "        output = self.electra(input_ids, attention_mask=attention_mask)\n",
    "        logits = self.classifier(output.last_hidden_state[:, 0, :])\n",
    "        probs = torch.sigmoid(logits)\n",
    "\n",
    "        if labels is not None:\n",
    "            loss = self.criterion(probs, labels)\n",
    "            return loss, probs\n",
    "        return None, probs\n",
    "\n",
    "    def training_step(self, batch, batch_idx):\n",
    "        loss, _ = self(**batch)\n",
    "        self.log(\"train_loss\", loss, on_step=True, on_epoch=True, prog_bar=True)\n",
    "        return loss\n",
    "\n",
    "    def validation_step(self, batch, batch_idx):\n",
    "        loss, _ = self(**batch)\n",
    "        self.log(\"val_loss\", loss, prog_bar=True)\n",
    "        return loss\n",
    "\n",
    "    def configure_optimizers(self):\n",
    "        optimizer = torch.optim.AdamW(\n",
    "            self.parameters(),\n",
    "            lr=self.hparams.lr,\n",
    "            weight_decay=self.hparams.weight_decay\n",
    "        )\n",
    "        scheduler = get_linear_schedule_with_warmup(\n",
    "            optimizer,\n",
    "            num_warmup_steps=self.hparams.n_warmup_steps,\n",
    "            num_training_steps=self.hparams.n_training_steps\n",
    "        )\n",
    "        return {\"optimizer\": optimizer, \"lr_scheduler\": {\"scheduler\": scheduler, \"interval\": \"step\"}}"
   ]
  },
  {
   "cell_type": "code",
   "execution_count": 58,
   "metadata": {},
   "outputs": [
    {
     "name": "stdout",
     "output_type": "stream",
     "text": [
      "Best checkpoint path: ../model/best_model_B_minmax_0.2.ckpt\n"
     ]
    }
   ],
   "source": [
    "best_ckpt_path_poetry = '../model/best_model_B_minmax_0.2.ckpt' # Colab 경로에 맞게 수정\n",
    "print(\"Best checkpoint path:\", best_ckpt_path_poetry)"
   ]
  },
  {
   "cell_type": "code",
   "execution_count": 59,
   "metadata": {},
   "outputs": [],
   "source": [
    "best_model_poetry = BaseTagger.load_from_checkpoint(best_ckpt_path_poetry)\n",
    "device = torch.device(\"cuda\" if torch.cuda.is_available() else \"cpu\")\n",
    "\n",
    "best_model_poetry.to(device)\n",
    "best_model_poetry.eval()\n",
    "best_model_poetry.freeze()"
   ]
  },
  {
   "cell_type": "code",
   "execution_count": 60,
   "metadata": {},
   "outputs": [],
   "source": [
    "def classify_emotion(sample_text):\n",
    "\n",
    "    encoding = tokenizer(\n",
    "        sample_text,\n",
    "        max_length=512,\n",
    "        padding=\"max_length\",\n",
    "        truncation=True,\n",
    "        return_tensors=\"pt\"\n",
    "    )\n",
    "\n",
    "    with torch.no_grad():\n",
    "        # 입력 텐서 또한 같은 device로 이동\n",
    "        input_ids = encoding[\"input_ids\"].to(device)\n",
    "        attention_mask = encoding[\"attention_mask\"].to(device)\n",
    "\n",
    "        # forward\n",
    "        _, predictions = best_model_poetry(input_ids, attention_mask)  # best_model_poetry 사용\n",
    "\n",
    "    # 추론 결과를 CPU로 가져와 numpy로 변환\n",
    "    predictions = predictions.flatten().cpu().numpy()\n",
    "\n",
    "    # 결과를 딕셔너리로 저장 (숫자값으로 변환)\n",
    "    result_dict = {\n",
    "        label_name: float(round(score, 3))  # np.float32 -> float 변환\n",
    "        for label_name, score in zip(LABELS, predictions)\n",
    "        if score > THRESHOLD\n",
    "    }\n",
    "\n",
    "    return result_dict\n",
    "    # 예시 출력\n",
    "    # {'불안/걱정': 0.336, '슬픔': 0.311}"
   ]
  },
  {
   "cell_type": "code",
   "execution_count": 61,
   "metadata": {},
   "outputs": [],
   "source": [
    "sample_text = \"\"\"\n",
    "미풍이 웃는 아침을 기원하련다\n",
    "\"\"\" # 송몽규 - 하늘과 더불어"
   ]
  },
  {
   "cell_type": "markdown",
   "metadata": {},
   "source": [
    "##### 샘플 텍스트에 대한 감정분류"
   ]
  },
  {
   "cell_type": "code",
   "execution_count": 79,
   "metadata": {},
   "outputs": [
    {
     "data": {
      "text/plain": [
       "{'환영/호의': 0.6579999923706055,\n",
       " '감동/감탄': 0.46399998664855957,\n",
       " '슬픔': 0.31700000166893005,\n",
       " '기대감': 0.9459999799728394,\n",
       " '편안/쾌적': 0.34200000762939453,\n",
       " '신기함/관심': 0.3449999988079071,\n",
       " '아껴주는': 0.753000020980835,\n",
       " '즐거움/신남': 0.5619999766349792,\n",
       " '흐뭇함(귀여움/예쁨)': 0.4729999899864197,\n",
       " '행복': 0.6830000281333923,\n",
       " '기쁨': 0.8529999852180481}"
      ]
     },
     "execution_count": 79,
     "metadata": {},
     "output_type": "execute_result"
    }
   ],
   "source": [
    "poem_emotions = classify_emotion(sample_text)\n",
    "poem_emotions"
   ]
  },
  {
   "cell_type": "markdown",
   "metadata": {},
   "source": [
    "## 3. Langchain (Blossom)"
   ]
  },
  {
   "cell_type": "code",
   "execution_count": 106,
   "metadata": {},
   "outputs": [
    {
     "name": "stdout",
     "output_type": "stream",
     "text": [
      "Defaulting to user installation because normal site-packages is not writeable\n",
      "\u001b[33mDEPRECATION: Loading egg at /usr/local/lib/python3.12/dist-packages/bitsandbytes-0.45.4.dev0-py3.12-linux-x86_64.egg is deprecated. pip 25.1 will enforce this behaviour change. A possible replacement is to use pip for package installation. Discussion can be found at https://github.com/pypa/pip/issues/12330\u001b[0m\u001b[33m\n",
      "\u001b[0m\u001b[33mDEPRECATION: Loading egg at /usr/local/lib/python3.12/dist-packages/lightning_utilities-0.12.0.dev0-py3.12.egg is deprecated. pip 25.1 will enforce this behaviour change. A possible replacement is to use pip for package installation. Discussion can be found at https://github.com/pypa/pip/issues/12330\u001b[0m\u001b[33m\n",
      "\u001b[0m\u001b[33mDEPRECATION: Loading egg at /usr/local/lib/python3.12/dist-packages/looseversion-1.3.0-py3.12.egg is deprecated. pip 25.1 will enforce this behaviour change. A possible replacement is to use pip for package installation. Discussion can be found at https://github.com/pypa/pip/issues/12330\u001b[0m\u001b[33m\n",
      "\u001b[0m\u001b[33mDEPRECATION: Loading egg at /usr/local/lib/python3.12/dist-packages/lightning_thunder-0.2.0.dev0-py3.12.egg is deprecated. pip 25.1 will enforce this behaviour change. A possible replacement is to use pip for package installation. Discussion can be found at https://github.com/pypa/pip/issues/12330\u001b[0m\u001b[33m\n",
      "\u001b[0m\u001b[33mDEPRECATION: Loading egg at /usr/local/lib/python3.12/dist-packages/nvfuser-0.2.23a0+6627725-py3.12-linux-x86_64.egg is deprecated. pip 25.1 will enforce this behaviour change. A possible replacement is to use pip for package installation. Discussion can be found at https://github.com/pypa/pip/issues/12330\u001b[0m\u001b[33m\n",
      "\u001b[0mLooking in indexes: https://pypi.org/simple, https://pypi.ngc.nvidia.com\n",
      "Requirement already satisfied: langchain in /home/work/.local/lib/python3.12/site-packages (0.3.27)\n",
      "Requirement already satisfied: langchain-core<1.0.0,>=0.3.72 in /home/work/.local/lib/python3.12/site-packages (from langchain) (0.3.74)\n",
      "Requirement already satisfied: langchain-text-splitters<1.0.0,>=0.3.9 in /home/work/.local/lib/python3.12/site-packages (from langchain) (0.3.9)\n",
      "Requirement already satisfied: langsmith>=0.1.17 in /home/work/.local/lib/python3.12/site-packages (from langchain) (0.4.13)\n",
      "Requirement already satisfied: pydantic<3.0.0,>=2.7.4 in /usr/local/lib/python3.12/dist-packages (from langchain) (2.10.5)\n",
      "Requirement already satisfied: SQLAlchemy<3,>=1.4 in /usr/local/lib/python3.12/dist-packages (from langchain) (1.4.36)\n",
      "Requirement already satisfied: requests<3,>=2 in /usr/local/lib/python3.12/dist-packages (from langchain) (2.32.3)\n",
      "Requirement already satisfied: PyYAML>=5.3 in /usr/local/lib/python3.12/dist-packages (from langchain) (6.0.2)\n",
      "Requirement already satisfied: tenacity!=8.4.0,<10.0.0,>=8.1.0 in /home/work/.local/lib/python3.12/site-packages (from langchain-core<1.0.0,>=0.3.72->langchain) (9.1.2)\n",
      "Requirement already satisfied: jsonpatch<2.0,>=1.33 in /home/work/.local/lib/python3.12/site-packages (from langchain-core<1.0.0,>=0.3.72->langchain) (1.33)\n",
      "Requirement already satisfied: typing-extensions>=4.7 in /usr/local/lib/python3.12/dist-packages (from langchain-core<1.0.0,>=0.3.72->langchain) (4.12.2)\n",
      "Requirement already satisfied: packaging>=23.2 in /usr/local/lib/python3.12/dist-packages (from langchain-core<1.0.0,>=0.3.72->langchain) (23.2)\n",
      "Requirement already satisfied: httpx<1,>=0.23.0 in /usr/local/lib/python3.12/dist-packages (from langsmith>=0.1.17->langchain) (0.28.1)\n",
      "Requirement already satisfied: orjson>=3.9.14 in /usr/local/lib/python3.12/dist-packages (from langsmith>=0.1.17->langchain) (3.10.15)\n",
      "Requirement already satisfied: requests-toolbelt>=1.0.0 in /home/work/.local/lib/python3.12/site-packages (from langsmith>=0.1.17->langchain) (1.0.0)\n",
      "Requirement already satisfied: zstandard>=0.23.0 in /home/work/.local/lib/python3.12/site-packages (from langsmith>=0.1.17->langchain) (0.23.0)\n",
      "Requirement already satisfied: annotated-types>=0.6.0 in /usr/local/lib/python3.12/dist-packages (from pydantic<3.0.0,>=2.7.4->langchain) (0.7.0)\n",
      "Requirement already satisfied: pydantic-core==2.27.2 in /usr/local/lib/python3.12/dist-packages (from pydantic<3.0.0,>=2.7.4->langchain) (2.27.2)\n",
      "Requirement already satisfied: charset-normalizer<4,>=2 in /usr/local/lib/python3.12/dist-packages (from requests<3,>=2->langchain) (3.4.1)\n",
      "Requirement already satisfied: idna<4,>=2.5 in /usr/local/lib/python3.12/dist-packages (from requests<3,>=2->langchain) (3.10)\n",
      "Requirement already satisfied: urllib3<3,>=1.21.1 in /usr/local/lib/python3.12/dist-packages (from requests<3,>=2->langchain) (1.26.20)\n",
      "Requirement already satisfied: certifi>=2017.4.17 in /usr/local/lib/python3.12/dist-packages (from requests<3,>=2->langchain) (2024.12.14)\n",
      "Requirement already satisfied: greenlet!=0.4.17 in /usr/local/lib/python3.12/dist-packages (from SQLAlchemy<3,>=1.4->langchain) (3.1.1)\n",
      "Requirement already satisfied: anyio in /usr/local/lib/python3.12/dist-packages (from httpx<1,>=0.23.0->langsmith>=0.1.17->langchain) (3.7.1)\n",
      "Requirement already satisfied: httpcore==1.* in /usr/local/lib/python3.12/dist-packages (from httpx<1,>=0.23.0->langsmith>=0.1.17->langchain) (1.0.7)\n",
      "Requirement already satisfied: h11<0.15,>=0.13 in /usr/local/lib/python3.12/dist-packages (from httpcore==1.*->httpx<1,>=0.23.0->langsmith>=0.1.17->langchain) (0.14.0)\n",
      "Requirement already satisfied: jsonpointer>=1.9 in /usr/local/lib/python3.12/dist-packages (from jsonpatch<2.0,>=1.33->langchain-core<1.0.0,>=0.3.72->langchain) (2.3)\n",
      "Requirement already satisfied: sniffio>=1.1 in /usr/local/lib/python3.12/dist-packages (from anyio->httpx<1,>=0.23.0->langsmith>=0.1.17->langchain) (1.2.0)\n"
     ]
    }
   ],
   "source": [
    "!pip install --upgrade langchain"
   ]
  },
  {
   "cell_type": "code",
   "execution_count": 108,
   "metadata": {},
   "outputs": [],
   "source": [
    "from langchain_community.llms import Ollama\n",
    "from langchain.llms import HuggingFacePipeline\n",
    "from langchain.prompts import PromptTemplate\n",
    "from langchain.chains import LLMChain\n",
    "# from langchain.output_parsers import StrOutputParser\n",
    "from transformers import AutoTokenizer, AutoModelForCausalLM, pipeline\n",
    "import re"
   ]
  },
  {
   "cell_type": "markdown",
   "metadata": {},
   "source": [
    "#### Blossom 로드"
   ]
  },
  {
   "cell_type": "code",
   "execution_count": 82,
   "metadata": {},
   "outputs": [
    {
     "data": {
      "application/vnd.jupyter.widget-view+json": {
       "model_id": "240b99efd9974d3688ddd1c80fab79ec",
       "version_major": 2,
       "version_minor": 0
      },
      "text/plain": [
       "tokenizer_config.json: 0.00B [00:00, ?B/s]"
      ]
     },
     "metadata": {},
     "output_type": "display_data"
    },
    {
     "data": {
      "application/vnd.jupyter.widget-view+json": {
       "model_id": "95ebe23f989e44e19ad5d9627b8b1eb0",
       "version_major": 2,
       "version_minor": 0
      },
      "text/plain": [
       "tokenizer.json:   0%|          | 0.00/17.2M [00:00<?, ?B/s]"
      ]
     },
     "metadata": {},
     "output_type": "display_data"
    },
    {
     "data": {
      "application/vnd.jupyter.widget-view+json": {
       "model_id": "2a1a3690b27242d685e380d5747c3026",
       "version_major": 2,
       "version_minor": 0
      },
      "text/plain": [
       "special_tokens_map.json:   0%|          | 0.00/296 [00:00<?, ?B/s]"
      ]
     },
     "metadata": {},
     "output_type": "display_data"
    }
   ],
   "source": [
    "model_id = \"Bllossom/llama-3.2-Korean-Bllossom-3B\"\n",
    "\n",
    "# 토크나이저 로드\n",
    "tokenizer_bllossom = AutoTokenizer.from_pretrained(model_id)\n",
    "tokenizer_bllossom.pad_token = tokenizer_bllossom.eos_token  # Blossom은 pad_token이 없음"
   ]
  },
  {
   "cell_type": "code",
   "execution_count": 130,
   "metadata": {},
   "outputs": [
    {
     "data": {
      "application/vnd.jupyter.widget-view+json": {
       "model_id": "caafd42620ba49eab1c09d35420e8796",
       "version_major": 2,
       "version_minor": 0
      },
      "text/plain": [
       "Loading checkpoint shards:   0%|          | 0/2 [00:00<?, ?it/s]"
      ]
     },
     "metadata": {},
     "output_type": "display_data"
    },
    {
     "name": "stderr",
     "output_type": "stream",
     "text": [
      "Device set to use cuda:0\n"
     ]
    }
   ],
   "source": [
    "model = AutoModelForCausalLM.from_pretrained(\n",
    "    model_id,\n",
    "    device_map=\"auto\",\n",
    "    torch_dtype=torch.float16  # 또는 \"auto\"\n",
    ")\n",
    "\n",
    "# 2. 텍스트 생성 파이프라인\n",
    "pipe = pipeline(\n",
    "    \"text-generation\",\n",
    "    model=model,\n",
    "    tokenizer=tokenizer_bllossom,\n",
    "    temperature=0.3, #\t생성의 무작위성 조절 계수\n",
    "    top_p=0.9, # 누적 확률이 top_p 이하인 토큰들만 고려\n",
    "    max_new_tokens=4, #한 번에 생성할 최대 토큰 수입니다. (입력 프롬프트 제외)\n",
    "    repetition_penalty=1.5 # 반복되는 단어에 대한 페널티\n",
    ")\n",
    "\n",
    "# 3. LangChain용 LLM 래퍼\n",
    "llm = HuggingFacePipeline(pipeline=pipe)"
   ]
  },
  {
   "cell_type": "code",
   "execution_count": 122,
   "metadata": {},
   "outputs": [
    {
     "name": "stdout",
     "output_type": "stream",
     "text": [
      "가벼운,가지런한,간편한,감각적인,감미로운,감성적인,강인한,강한,개성적인,거친,건실한,격식있는,견고한,고급스러운,그윽한,기능적인,기운찬,깊은,깔끔한,나이든,남성적인,넉넉한,다양한,단순한,단정한,달콤한,도시적인,돋보이는,동양적인,동적인,딱딱한,뛰어난,맑은,매끄러운,매력적인,멋진,무거운,밝은,보수적인,복잡한,부드러운,사랑스러운,상쾌한,새로운,서양적인,선명한,섬세한,성숙한,세련된,소박한,수수한,순수한,스포티한,시원한,신선한,실용적인,심플한,싱싱한,아기자기한,안정된,약한,얕은,어두운,여성적인,여유있는,연약한,오래된,와일드한,우울한,유연한,율동적인,이성적인,인공적인,자연적인,자유로운,잔잔한,장식적인,재미있는,전원적인,전통적인,젊은,정다운,정돈된,정적인,조용한,중후한,즐거운,지적인,진보적인,차가운,차분한,친근한,쾌활한,클래식한,탁한,투명한,편리한,편안한,포근한,품위있는,풍성한,하이테크한,한국적인,향기로운,혁신적인,환상적인,활동적인\n"
     ]
    }
   ],
   "source": [
    "# 중복 제거 후 정렬\n",
    "adjectives = sorted(df_IRI['형용사'].dropna().unique())\n",
    "# 배열을 콤마 구분 문자열로 변환\n",
    "adjectives_str = \",\".join(adjectives)\n",
    "\n",
    "print(adjectives_str)"
   ]
  },
  {
   "cell_type": "markdown",
   "metadata": {},
   "source": [
    "#### 프롬프트 엔지니어링 (no Vectior)"
   ]
  },
  {
   "cell_type": "code",
   "execution_count": 111,
   "metadata": {},
   "outputs": [],
   "source": [
    "# 3) 후처리: 화이트리스트(=adjectives) 안에서만 허용\n",
    "def pick_one_adjective(raw_text: str, candidates: list[str]) -> str:\n",
    "    # 공백/따옴표/기호 제거\n",
    "    text = raw_text.strip()\n",
    "    text = re.sub(r\"[\\\"'«»「」\\[\\]\\(\\)<>]\", \"\", text)\n",
    "    text = re.sub(r\"\\s+\", \"\", text)\n",
    "\n",
    "    # 정확 매칭\n",
    "    if text in candidates:\n",
    "        return text\n",
    "\n",
    "    # 혹시 문장으로 나왔을 때, 후보 중 포함되는 첫 단어 뽑기\n",
    "    for cand in candidates:\n",
    "        if cand in raw_text:\n",
    "            return cand\n",
    "\n",
    "    # 마지막 안전장치: 첫 번째 후보 반환\n",
    "    return candidates[0]"
   ]
  },
  {
   "cell_type": "code",
   "execution_count": 127,
   "metadata": {},
   "outputs": [],
   "source": [
    "# 8️⃣ 전체 체인\n",
    "def CoReadingPoem(user_input):\n",
    "    # 프롬프트 생성\n",
    "    \n",
    "    template = \"\"\"\n",
    "    ### 시스템:\n",
    "    당신은 인간과 함께 '{context_snippets}' 라는 시를 읽고 있습니다.\n",
    "    아래 106개의 '감정형용사' 중에서 **가장 적합한 하나만** 고르세요.\n",
    "\n",
    "    감정형용사: {adjective}\n",
    "\n",
    "    ### 출력 형식(아주 중요):\n",
    "    - 목록에 있는 형용사 **한 단어만** 출력하세요.\n",
    "    - 따옴표/기타 설명/접두사/접미사/기호 금지.\n",
    "    - 예: 밝은\n",
    "    \"\"\"\n",
    "\n",
    "    prompt = PromptTemplate(\n",
    "        input_variables=[\"adjective\", \"context_snippets\"],\n",
    "        template=template.strip()\n",
    "    )\n",
    "    \n",
    "    # print(template)\n",
    "    chain = LLMChain(llm=llm, prompt=prompt)\n",
    "    result = chain.run(adjective=adjectives_str, context_snippets=user_input)\n",
    "    final_choice = pick_one_adjective(result, adjectives)\n",
    "    # 결과 출력\n",
    "    return final_choice"
   ]
  },
  {
   "cell_type": "code",
   "execution_count": 131,
   "metadata": {},
   "outputs": [],
   "source": [
    "import random\n",
    "import re\n",
    "from langchain import PromptTemplate, LLMChain\n",
    "\n",
    "# 후보 1개만 남기는 후처리(혹시 숫자 대신 단어가 오면 대비)\n",
    "def pick_one_adjective(raw_text: str, candidates: list[str]) -> str:\n",
    "    t = re.sub(r\"[\\\"'«»「」\\[\\]\\(\\)<>]\", \"\", raw_text).strip()\n",
    "    t = re.sub(r\"\\s+\", \"\", t)\n",
    "    # 정확 매칭\n",
    "    if t in candidates:\n",
    "        return t\n",
    "    # 포함 매칭\n",
    "    for c in candidates:\n",
    "        if c in raw_text:\n",
    "            return c\n",
    "    return candidates[0]\n",
    "\n",
    "def CoReadingPoem(user_input: str) -> str:\n",
    "    # 1) 매 호출마다 순서 섞기 (위치 바이어스 제거)\n",
    "    shuffled = random.sample(adjectives, k=len(adjectives))\n",
    "\n",
    "    # 2) 번호 달아서 제시 (숫자만 출력하도록 유도)\n",
    "    numbered = \"\\n\".join(f\"{i+1}. {w}\" for i, w in enumerate(shuffled))\n",
    "\n",
    "    template = \"\"\"\n",
    "    ### 시스템\n",
    "    당신은 인간과 함께 다음 시를 읽고 있습니다:\n",
    "    {context_snippets}\n",
    "\n",
    "    아래 '감정형용사' 목록 중에서 **가장 적합한 하나**를 고르세요.\n",
    "\n",
    "    감정형용사 목록:\n",
    "    {numbered_adjectives}\n",
    "\n",
    "    ### 출력 형식(아주 중요)\n",
    "    - 선택한 항목의 **번호만** 출력하세요 (예: 17)\n",
    "    - 다른 말/기호/공백 금지\n",
    "    \"\"\"\n",
    "\n",
    "    prompt = PromptTemplate(\n",
    "        input_variables=[\"context_snippets\", \"numbered_adjectives\"],\n",
    "        template=template.strip()\n",
    "    )\n",
    "    chain = LLMChain(llm=llm, prompt=prompt)\n",
    "\n",
    "    # 3) 생성은 짧고 보수적으로 (수다 방지)\n",
    "    #    * HF 파이프라인을 썼다면 사전에 temperature/top_p/max_new_tokens를 낮춰둔 상태가 좋아요.\n",
    "    raw = chain.run(\n",
    "        context_snippets=user_input,\n",
    "        numbered_adjectives=numbered\n",
    "    )\n",
    "\n",
    "    # 4) 숫자 파싱 -> 인덱스 매핑\n",
    "    m = re.search(r\"\\d+\", raw)\n",
    "    if m:\n",
    "        idx = int(m.group()) - 1\n",
    "        if 0 <= idx < len(shuffled):\n",
    "            return shuffled[idx]\n",
    "\n",
    "    # 5) 비상구: 숫자 못 뽑았으면 기존 후처리로 보정\n",
    "    return pick_one_adjective(raw, shuffled)\n"
   ]
  },
  {
   "cell_type": "code",
   "execution_count": 176,
   "metadata": {},
   "outputs": [
    {
     "data": {
      "text/plain": [
       "'유연한'"
      ]
     },
     "execution_count": 176,
     "metadata": {},
     "output_type": "execute_result"
    }
   ],
   "source": [
    "CoReading_Result = CoReadingPoem(sample_text)\n",
    "CoReading_Result "
   ]
  },
  {
   "cell_type": "markdown",
   "metadata": {},
   "source": [
    "##### 시 감정에 대한 색 정보 얻기"
   ]
  },
  {
   "cell_type": "code",
   "execution_count": 177,
   "metadata": {},
   "outputs": [
    {
     "name": "stdout",
     "output_type": "stream",
     "text": [
      "Primary: positive, Secondary: positive, Mode : 유사색상\n",
      "형용사 '유연한'는 '온화환' 형용사군에 속합니다.\n",
      "선택된 배색그룹id: 3\n"
     ]
    },
    {
     "data": {
      "text/plain": [
       "{'updated_primary_color': {'H': 70,\n",
       "  'S': '15',\n",
       "  'B': '62',\n",
       "  'color info': {'감정id': '2',\n",
       "   '감정 어휘': '기대하다',\n",
       "   '평가 순위': '1',\n",
       "   'R': '194',\n",
       "   'G': '214',\n",
       "   'B': '94',\n",
       "   '샘플': nan,\n",
       "   '출처/참고문헌': '한국 성인의 감정 색채 반응 연구(한지운·나건, 2021)',\n",
       "   '출처/참고문헌2': nan,\n",
       "   '색상': '연두',\n",
       "   '색상약호': 'GY',\n",
       "   '색상 온도': 'Neutral',\n",
       "   nan: nan}},\n",
       " 'updated_secondary_color': {'H': 51,\n",
       "  'S': '13',\n",
       "  'B': '87',\n",
       "  'color info': {'감정id': '17',\n",
       "   '감정 어휘': '기쁨',\n",
       "   '평가 순위': '1',\n",
       "   'R': '238',\n",
       "   'G': '201',\n",
       "   'B': '0',\n",
       "   '샘플': nan,\n",
       "   '출처/참고문헌': '김애경,and 오윤경. \"긍정 및 부정 정서어휘에 대한 색 반응 연구.\" 조형미디어학 19.1 (2016): 59-66.',\n",
       "   '출처/참고문헌2': 'https://gist.github.com/hidex7777/5268700',\n",
       "   '색상': '노랑',\n",
       "   '색상약호': 'Y',\n",
       "   '색상 온도': 'Warm',\n",
       "   nan: nan}},\n",
       " 'primary_emotion': '기대감',\n",
       " 'secondary_emotion': '기쁨'}"
      ]
     },
     "execution_count": 177,
     "metadata": {},
     "output_type": "execute_result"
    }
   ],
   "source": [
    "poem_colors = define_colors(poem_emotions, CoReading_Result , df, IRI_colors_df)\n",
    "poem_colors"
   ]
  },
  {
   "cell_type": "code",
   "execution_count": 178,
   "metadata": {},
   "outputs": [
    {
     "data": {
      "image/png": "[encoded data removed]",
      "text/plain": [
       "<Figure size 700x200 with 2 Axes>"
      ]
     },
     "metadata": {},
     "output_type": "display_data"
    },
    {
     "name": "stdout",
     "output_type": "stream",
     "text": [
      "['기대감', '기쁨', '유연한'] {'updated_primary_color': {'H': 70, 'S': '15', 'B': '62', 'color info': {'감정id': '2', '감정 어휘': '기대하다', '평가 순위': '1', 'R': '194', 'G': '214', 'B': '94', '샘플': nan, '출처/참고문헌': '한국 성인의 감정 색채 반응 연구(한지운·나건, 2021)', '출처/참고문헌2': nan, '색상': '연두', '색상약호': 'GY', '색상 온도': 'Neutral', nan: nan}}, 'updated_secondary_color': {'H': 51, 'S': '13', 'B': '87', 'color info': {'감정id': '17', '감정 어휘': '기쁨', '평가 순위': '1', 'R': '238', 'G': '201', 'B': '0', '샘플': nan, '출처/참고문헌': '김애경,and 오윤경. \"긍정 및 부정 정서어휘에 대한 색 반응 연구.\" 조형미디어학 19.1 (2016): 59-66.', '출처/참고문헌2': 'https://gist.github.com/hidex7777/5268700', '색상': '노랑', '색상약호': 'Y', '색상 온도': 'Warm', nan: nan}}, 'primary_emotion': '기대감', 'secondary_emotion': '기쁨'}\n"
     ]
    }
   ],
   "source": [
    "emotion_to_colors([poem_colors['primary_emotion'],poem_colors['secondary_emotion'], CoReading_Result], poem_colors)"
   ]
  }
 ],
 "metadata": {
  "kernelspec": {
   "display_name": "Python 3",
   "language": "python",
   "name": "python3"
  },
  "language_info": {
   "codemirror_mode": {
    "name": "ipython",
    "version": 3
   },
   "file_extension": ".py",
   "mimetype": "text/x-python",
   "name": "python",
   "nbconvert_exporter": "python",
   "pygments_lexer": "ipython3",
   "version": "3.12.3"
  }
 },
 "nbformat": 4,
 "nbformat_minor": 2
}
